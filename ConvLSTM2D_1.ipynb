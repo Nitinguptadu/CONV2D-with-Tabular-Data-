{
 "cells": [
  {
   "cell_type": "code",
   "execution_count": 1,
   "metadata": {},
   "outputs": [],
   "source": [
    "import numpy as np \n",
    "import pandas as pd \n",
    "import seaborn as sns"
   ]
  },
  {
   "cell_type": "code",
   "execution_count": 2,
   "metadata": {},
   "outputs": [
    {
     "data": {
      "text/plain": [
       "array([[ 1,  2,  3,  4,  5,  6,  7,  8,  9, 10, 11, 12],\n",
       "       [ 1,  2,  3,  4,  5,  6,  7,  8,  9, 10, 11, 12]])"
      ]
     },
     "execution_count": 2,
     "metadata": {},
     "output_type": "execute_result"
    }
   ],
   "source": [
    "arr = np.array([[1, 2, 3, 4, 5, 6, 7, 8, 9, 10, 11, 12],[1, 2, 3, 4, 5, 6, 7, 8, 9, 10, 11, 12]])\n",
    "arr"
   ]
  },
  {
   "cell_type": "code",
   "execution_count": 3,
   "metadata": {},
   "outputs": [
    {
     "name": "stdout",
     "output_type": "stream",
     "text": [
      "(2, 1, 4, 3)\n",
      "[[[[ 1  2  3]\n",
      "   [ 4  5  6]\n",
      "   [ 7  8  9]\n",
      "   [10 11 12]]]\n",
      "\n",
      "\n",
      " [[[ 1  2  3]\n",
      "   [ 4  5  6]\n",
      "   [ 7  8  9]\n",
      "   [10 11 12]]]]\n"
     ]
    }
   ],
   "source": [
    "newarr = arr.reshape(2,1,4, 3)\n",
    "print(newarr.shape)\n",
    "print(newarr)"
   ]
  },
  {
   "cell_type": "code",
   "execution_count": 4,
   "metadata": {},
   "outputs": [
    {
     "name": "stdout",
     "output_type": "stream",
     "text": [
      "(2, 2, 3, 2)\n",
      "[[[[ 1  2]\n",
      "   [ 3  4]\n",
      "   [ 5  6]]\n",
      "\n",
      "  [[ 7  8]\n",
      "   [ 9 10]\n",
      "   [11 12]]]\n",
      "\n",
      "\n",
      " [[[ 1  2]\n",
      "   [ 3  4]\n",
      "   [ 5  6]]\n",
      "\n",
      "  [[ 7  8]\n",
      "   [ 9 10]\n",
      "   [11 12]]]]\n"
     ]
    }
   ],
   "source": [
    "newarr = arr.reshape(2,2,3, 2)\n",
    "print(newarr.shape)\n",
    "print(newarr)"
   ]
  },
  {
   "cell_type": "code",
   "execution_count": 5,
   "metadata": {},
   "outputs": [
    {
     "data": {
      "text/plain": [
       "array([[ 1,  2,  3,  4,  5,  6,  7,  8,  9, 10, 11, 12],\n",
       "       [ 1,  2,  3,  4,  5,  6,  7,  8,  9, 10, 11, 12]])"
      ]
     },
     "execution_count": 5,
     "metadata": {},
     "output_type": "execute_result"
    }
   ],
   "source": [
    "arr = np.array([[1, 2, 3, 4, 5, 6, 7, 8, 9, 10, 11, 12],[1, 2, 3, 4, 5, 6, 7, 8, 9, 10, 11, 12]])\n",
    "arr"
   ]
  },
  {
   "cell_type": "code",
   "execution_count": 6,
   "metadata": {},
   "outputs": [
    {
     "name": "stdout",
     "output_type": "stream",
     "text": [
      "(2, 4, 3, 1)\n",
      "[[[[ 1]\n",
      "   [ 2]\n",
      "   [ 3]]\n",
      "\n",
      "  [[ 4]\n",
      "   [ 5]\n",
      "   [ 6]]\n",
      "\n",
      "  [[ 7]\n",
      "   [ 8]\n",
      "   [ 9]]\n",
      "\n",
      "  [[10]\n",
      "   [11]\n",
      "   [12]]]\n",
      "\n",
      "\n",
      " [[[ 1]\n",
      "   [ 2]\n",
      "   [ 3]]\n",
      "\n",
      "  [[ 4]\n",
      "   [ 5]\n",
      "   [ 6]]\n",
      "\n",
      "  [[ 7]\n",
      "   [ 8]\n",
      "   [ 9]]\n",
      "\n",
      "  [[10]\n",
      "   [11]\n",
      "   [12]]]]\n"
     ]
    }
   ],
   "source": [
    "newarr = arr.reshape(2,4, 3,1)\n",
    "print(newarr.shape)\n",
    "print(newarr)"
   ]
  },
  {
   "cell_type": "code",
   "execution_count": null,
   "metadata": {},
   "outputs": [],
   "source": []
  },
  {
   "cell_type": "code",
   "execution_count": 7,
   "metadata": {},
   "outputs": [],
   "source": [
    "data = pd.read_csv(\"train.csv\")"
   ]
  },
  {
   "cell_type": "code",
   "execution_count": 8,
   "metadata": {},
   "outputs": [],
   "source": [
    "dtest = pd.read_csv(\"test.csv\")"
   ]
  },
  {
   "cell_type": "code",
   "execution_count": 9,
   "metadata": {},
   "outputs": [
    {
     "data": {
      "text/html": [
       "<div>\n",
       "<style scoped>\n",
       "    .dataframe tbody tr th:only-of-type {\n",
       "        vertical-align: middle;\n",
       "    }\n",
       "\n",
       "    .dataframe tbody tr th {\n",
       "        vertical-align: top;\n",
       "    }\n",
       "\n",
       "    .dataframe thead th {\n",
       "        text-align: right;\n",
       "    }\n",
       "</style>\n",
       "<table border=\"1\" class=\"dataframe\">\n",
       "  <thead>\n",
       "    <tr style=\"text-align: right;\">\n",
       "      <th></th>\n",
       "      <th>ID</th>\n",
       "      <th>y</th>\n",
       "      <th>X0</th>\n",
       "      <th>X1</th>\n",
       "      <th>X2</th>\n",
       "      <th>X3</th>\n",
       "      <th>X4</th>\n",
       "      <th>X5</th>\n",
       "      <th>X6</th>\n",
       "      <th>X8</th>\n",
       "      <th>...</th>\n",
       "      <th>X375</th>\n",
       "      <th>X376</th>\n",
       "      <th>X377</th>\n",
       "      <th>X378</th>\n",
       "      <th>X379</th>\n",
       "      <th>X380</th>\n",
       "      <th>X382</th>\n",
       "      <th>X383</th>\n",
       "      <th>X384</th>\n",
       "      <th>X385</th>\n",
       "    </tr>\n",
       "  </thead>\n",
       "  <tbody>\n",
       "    <tr>\n",
       "      <th>0</th>\n",
       "      <td>0</td>\n",
       "      <td>130.81</td>\n",
       "      <td>k</td>\n",
       "      <td>v</td>\n",
       "      <td>at</td>\n",
       "      <td>a</td>\n",
       "      <td>d</td>\n",
       "      <td>u</td>\n",
       "      <td>j</td>\n",
       "      <td>o</td>\n",
       "      <td>...</td>\n",
       "      <td>0</td>\n",
       "      <td>0</td>\n",
       "      <td>1</td>\n",
       "      <td>0</td>\n",
       "      <td>0</td>\n",
       "      <td>0</td>\n",
       "      <td>0</td>\n",
       "      <td>0</td>\n",
       "      <td>0</td>\n",
       "      <td>0</td>\n",
       "    </tr>\n",
       "    <tr>\n",
       "      <th>1</th>\n",
       "      <td>6</td>\n",
       "      <td>88.53</td>\n",
       "      <td>k</td>\n",
       "      <td>t</td>\n",
       "      <td>av</td>\n",
       "      <td>e</td>\n",
       "      <td>d</td>\n",
       "      <td>y</td>\n",
       "      <td>l</td>\n",
       "      <td>o</td>\n",
       "      <td>...</td>\n",
       "      <td>1</td>\n",
       "      <td>0</td>\n",
       "      <td>0</td>\n",
       "      <td>0</td>\n",
       "      <td>0</td>\n",
       "      <td>0</td>\n",
       "      <td>0</td>\n",
       "      <td>0</td>\n",
       "      <td>0</td>\n",
       "      <td>0</td>\n",
       "    </tr>\n",
       "    <tr>\n",
       "      <th>2</th>\n",
       "      <td>7</td>\n",
       "      <td>76.26</td>\n",
       "      <td>az</td>\n",
       "      <td>w</td>\n",
       "      <td>n</td>\n",
       "      <td>c</td>\n",
       "      <td>d</td>\n",
       "      <td>x</td>\n",
       "      <td>j</td>\n",
       "      <td>x</td>\n",
       "      <td>...</td>\n",
       "      <td>0</td>\n",
       "      <td>0</td>\n",
       "      <td>0</td>\n",
       "      <td>0</td>\n",
       "      <td>0</td>\n",
       "      <td>0</td>\n",
       "      <td>1</td>\n",
       "      <td>0</td>\n",
       "      <td>0</td>\n",
       "      <td>0</td>\n",
       "    </tr>\n",
       "    <tr>\n",
       "      <th>3</th>\n",
       "      <td>9</td>\n",
       "      <td>80.62</td>\n",
       "      <td>az</td>\n",
       "      <td>t</td>\n",
       "      <td>n</td>\n",
       "      <td>f</td>\n",
       "      <td>d</td>\n",
       "      <td>x</td>\n",
       "      <td>l</td>\n",
       "      <td>e</td>\n",
       "      <td>...</td>\n",
       "      <td>0</td>\n",
       "      <td>0</td>\n",
       "      <td>0</td>\n",
       "      <td>0</td>\n",
       "      <td>0</td>\n",
       "      <td>0</td>\n",
       "      <td>0</td>\n",
       "      <td>0</td>\n",
       "      <td>0</td>\n",
       "      <td>0</td>\n",
       "    </tr>\n",
       "    <tr>\n",
       "      <th>4</th>\n",
       "      <td>13</td>\n",
       "      <td>78.02</td>\n",
       "      <td>az</td>\n",
       "      <td>v</td>\n",
       "      <td>n</td>\n",
       "      <td>f</td>\n",
       "      <td>d</td>\n",
       "      <td>h</td>\n",
       "      <td>d</td>\n",
       "      <td>n</td>\n",
       "      <td>...</td>\n",
       "      <td>0</td>\n",
       "      <td>0</td>\n",
       "      <td>0</td>\n",
       "      <td>0</td>\n",
       "      <td>0</td>\n",
       "      <td>0</td>\n",
       "      <td>0</td>\n",
       "      <td>0</td>\n",
       "      <td>0</td>\n",
       "      <td>0</td>\n",
       "    </tr>\n",
       "  </tbody>\n",
       "</table>\n",
       "<p>5 rows × 378 columns</p>\n",
       "</div>"
      ],
      "text/plain": [
       "   ID       y  X0 X1  X2 X3 X4 X5 X6 X8  ...  X375  X376  X377  X378  X379  \\\n",
       "0   0  130.81   k  v  at  a  d  u  j  o  ...     0     0     1     0     0   \n",
       "1   6   88.53   k  t  av  e  d  y  l  o  ...     1     0     0     0     0   \n",
       "2   7   76.26  az  w   n  c  d  x  j  x  ...     0     0     0     0     0   \n",
       "3   9   80.62  az  t   n  f  d  x  l  e  ...     0     0     0     0     0   \n",
       "4  13   78.02  az  v   n  f  d  h  d  n  ...     0     0     0     0     0   \n",
       "\n",
       "   X380  X382  X383  X384  X385  \n",
       "0     0     0     0     0     0  \n",
       "1     0     0     0     0     0  \n",
       "2     0     1     0     0     0  \n",
       "3     0     0     0     0     0  \n",
       "4     0     0     0     0     0  \n",
       "\n",
       "[5 rows x 378 columns]"
      ]
     },
     "execution_count": 9,
     "metadata": {},
     "output_type": "execute_result"
    }
   ],
   "source": [
    "data.head()"
   ]
  },
  {
   "cell_type": "code",
   "execution_count": 10,
   "metadata": {},
   "outputs": [],
   "source": [
    "data =  data.drop([\"ID\",\"X0\",\"X1\",\"X2\",\"X3\",\"X4\",\"X5\",\"X6\",\"X8\" ], axis = 1)"
   ]
  },
  {
   "cell_type": "code",
   "execution_count": 11,
   "metadata": {},
   "outputs": [
    {
     "data": {
      "text/plain": [
       "(4209, 368)"
      ]
     },
     "execution_count": 11,
     "metadata": {},
     "output_type": "execute_result"
    }
   ],
   "source": [
    "X = data.drop(\"y\" , axis =  1)\n",
    "y = data[\"y\"]\n",
    "X.shape"
   ]
  },
  {
   "cell_type": "code",
   "execution_count": 12,
   "metadata": {},
   "outputs": [
    {
     "data": {
      "text/plain": [
       "130.81"
      ]
     },
     "execution_count": 12,
     "metadata": {},
     "output_type": "execute_result"
    }
   ],
   "source": [
    "y[0]"
   ]
  },
  {
   "cell_type": "code",
   "execution_count": 13,
   "metadata": {},
   "outputs": [
    {
     "data": {
      "text/html": [
       "<div>\n",
       "<style scoped>\n",
       "    .dataframe tbody tr th:only-of-type {\n",
       "        vertical-align: middle;\n",
       "    }\n",
       "\n",
       "    .dataframe tbody tr th {\n",
       "        vertical-align: top;\n",
       "    }\n",
       "\n",
       "    .dataframe thead th {\n",
       "        text-align: right;\n",
       "    }\n",
       "</style>\n",
       "<table border=\"1\" class=\"dataframe\">\n",
       "  <thead>\n",
       "    <tr style=\"text-align: right;\">\n",
       "      <th></th>\n",
       "      <th>X10</th>\n",
       "      <th>X11</th>\n",
       "      <th>X12</th>\n",
       "      <th>X13</th>\n",
       "      <th>X14</th>\n",
       "      <th>X15</th>\n",
       "      <th>X16</th>\n",
       "      <th>X17</th>\n",
       "      <th>X18</th>\n",
       "      <th>X19</th>\n",
       "      <th>...</th>\n",
       "      <th>X375</th>\n",
       "      <th>X376</th>\n",
       "      <th>X377</th>\n",
       "      <th>X378</th>\n",
       "      <th>X379</th>\n",
       "      <th>X380</th>\n",
       "      <th>X382</th>\n",
       "      <th>X383</th>\n",
       "      <th>X384</th>\n",
       "      <th>X385</th>\n",
       "    </tr>\n",
       "  </thead>\n",
       "  <tbody>\n",
       "    <tr>\n",
       "      <th>0</th>\n",
       "      <td>0</td>\n",
       "      <td>0</td>\n",
       "      <td>0</td>\n",
       "      <td>1</td>\n",
       "      <td>0</td>\n",
       "      <td>0</td>\n",
       "      <td>0</td>\n",
       "      <td>0</td>\n",
       "      <td>1</td>\n",
       "      <td>0</td>\n",
       "      <td>...</td>\n",
       "      <td>0</td>\n",
       "      <td>0</td>\n",
       "      <td>1</td>\n",
       "      <td>0</td>\n",
       "      <td>0</td>\n",
       "      <td>0</td>\n",
       "      <td>0</td>\n",
       "      <td>0</td>\n",
       "      <td>0</td>\n",
       "      <td>0</td>\n",
       "    </tr>\n",
       "    <tr>\n",
       "      <th>1</th>\n",
       "      <td>0</td>\n",
       "      <td>0</td>\n",
       "      <td>0</td>\n",
       "      <td>0</td>\n",
       "      <td>0</td>\n",
       "      <td>0</td>\n",
       "      <td>0</td>\n",
       "      <td>0</td>\n",
       "      <td>1</td>\n",
       "      <td>0</td>\n",
       "      <td>...</td>\n",
       "      <td>1</td>\n",
       "      <td>0</td>\n",
       "      <td>0</td>\n",
       "      <td>0</td>\n",
       "      <td>0</td>\n",
       "      <td>0</td>\n",
       "      <td>0</td>\n",
       "      <td>0</td>\n",
       "      <td>0</td>\n",
       "      <td>0</td>\n",
       "    </tr>\n",
       "    <tr>\n",
       "      <th>2</th>\n",
       "      <td>0</td>\n",
       "      <td>0</td>\n",
       "      <td>0</td>\n",
       "      <td>0</td>\n",
       "      <td>0</td>\n",
       "      <td>0</td>\n",
       "      <td>0</td>\n",
       "      <td>1</td>\n",
       "      <td>0</td>\n",
       "      <td>0</td>\n",
       "      <td>...</td>\n",
       "      <td>0</td>\n",
       "      <td>0</td>\n",
       "      <td>0</td>\n",
       "      <td>0</td>\n",
       "      <td>0</td>\n",
       "      <td>0</td>\n",
       "      <td>1</td>\n",
       "      <td>0</td>\n",
       "      <td>0</td>\n",
       "      <td>0</td>\n",
       "    </tr>\n",
       "    <tr>\n",
       "      <th>3</th>\n",
       "      <td>0</td>\n",
       "      <td>0</td>\n",
       "      <td>0</td>\n",
       "      <td>0</td>\n",
       "      <td>0</td>\n",
       "      <td>0</td>\n",
       "      <td>0</td>\n",
       "      <td>0</td>\n",
       "      <td>0</td>\n",
       "      <td>0</td>\n",
       "      <td>...</td>\n",
       "      <td>0</td>\n",
       "      <td>0</td>\n",
       "      <td>0</td>\n",
       "      <td>0</td>\n",
       "      <td>0</td>\n",
       "      <td>0</td>\n",
       "      <td>0</td>\n",
       "      <td>0</td>\n",
       "      <td>0</td>\n",
       "      <td>0</td>\n",
       "    </tr>\n",
       "    <tr>\n",
       "      <th>4</th>\n",
       "      <td>0</td>\n",
       "      <td>0</td>\n",
       "      <td>0</td>\n",
       "      <td>0</td>\n",
       "      <td>0</td>\n",
       "      <td>0</td>\n",
       "      <td>0</td>\n",
       "      <td>0</td>\n",
       "      <td>0</td>\n",
       "      <td>0</td>\n",
       "      <td>...</td>\n",
       "      <td>0</td>\n",
       "      <td>0</td>\n",
       "      <td>0</td>\n",
       "      <td>0</td>\n",
       "      <td>0</td>\n",
       "      <td>0</td>\n",
       "      <td>0</td>\n",
       "      <td>0</td>\n",
       "      <td>0</td>\n",
       "      <td>0</td>\n",
       "    </tr>\n",
       "    <tr>\n",
       "      <th>...</th>\n",
       "      <td>...</td>\n",
       "      <td>...</td>\n",
       "      <td>...</td>\n",
       "      <td>...</td>\n",
       "      <td>...</td>\n",
       "      <td>...</td>\n",
       "      <td>...</td>\n",
       "      <td>...</td>\n",
       "      <td>...</td>\n",
       "      <td>...</td>\n",
       "      <td>...</td>\n",
       "      <td>...</td>\n",
       "      <td>...</td>\n",
       "      <td>...</td>\n",
       "      <td>...</td>\n",
       "      <td>...</td>\n",
       "      <td>...</td>\n",
       "      <td>...</td>\n",
       "      <td>...</td>\n",
       "      <td>...</td>\n",
       "      <td>...</td>\n",
       "    </tr>\n",
       "    <tr>\n",
       "      <th>4204</th>\n",
       "      <td>0</td>\n",
       "      <td>0</td>\n",
       "      <td>0</td>\n",
       "      <td>0</td>\n",
       "      <td>1</td>\n",
       "      <td>0</td>\n",
       "      <td>0</td>\n",
       "      <td>0</td>\n",
       "      <td>0</td>\n",
       "      <td>0</td>\n",
       "      <td>...</td>\n",
       "      <td>1</td>\n",
       "      <td>0</td>\n",
       "      <td>0</td>\n",
       "      <td>0</td>\n",
       "      <td>0</td>\n",
       "      <td>0</td>\n",
       "      <td>0</td>\n",
       "      <td>0</td>\n",
       "      <td>0</td>\n",
       "      <td>0</td>\n",
       "    </tr>\n",
       "    <tr>\n",
       "      <th>4205</th>\n",
       "      <td>0</td>\n",
       "      <td>0</td>\n",
       "      <td>0</td>\n",
       "      <td>0</td>\n",
       "      <td>0</td>\n",
       "      <td>0</td>\n",
       "      <td>0</td>\n",
       "      <td>0</td>\n",
       "      <td>0</td>\n",
       "      <td>0</td>\n",
       "      <td>...</td>\n",
       "      <td>0</td>\n",
       "      <td>1</td>\n",
       "      <td>0</td>\n",
       "      <td>0</td>\n",
       "      <td>0</td>\n",
       "      <td>0</td>\n",
       "      <td>0</td>\n",
       "      <td>0</td>\n",
       "      <td>0</td>\n",
       "      <td>0</td>\n",
       "    </tr>\n",
       "    <tr>\n",
       "      <th>4206</th>\n",
       "      <td>0</td>\n",
       "      <td>0</td>\n",
       "      <td>1</td>\n",
       "      <td>1</td>\n",
       "      <td>0</td>\n",
       "      <td>0</td>\n",
       "      <td>0</td>\n",
       "      <td>0</td>\n",
       "      <td>0</td>\n",
       "      <td>0</td>\n",
       "      <td>...</td>\n",
       "      <td>0</td>\n",
       "      <td>0</td>\n",
       "      <td>1</td>\n",
       "      <td>0</td>\n",
       "      <td>0</td>\n",
       "      <td>0</td>\n",
       "      <td>0</td>\n",
       "      <td>0</td>\n",
       "      <td>0</td>\n",
       "      <td>0</td>\n",
       "    </tr>\n",
       "    <tr>\n",
       "      <th>4207</th>\n",
       "      <td>0</td>\n",
       "      <td>0</td>\n",
       "      <td>0</td>\n",
       "      <td>0</td>\n",
       "      <td>1</td>\n",
       "      <td>0</td>\n",
       "      <td>0</td>\n",
       "      <td>0</td>\n",
       "      <td>0</td>\n",
       "      <td>0</td>\n",
       "      <td>...</td>\n",
       "      <td>0</td>\n",
       "      <td>0</td>\n",
       "      <td>0</td>\n",
       "      <td>0</td>\n",
       "      <td>0</td>\n",
       "      <td>0</td>\n",
       "      <td>0</td>\n",
       "      <td>0</td>\n",
       "      <td>0</td>\n",
       "      <td>0</td>\n",
       "    </tr>\n",
       "    <tr>\n",
       "      <th>4208</th>\n",
       "      <td>0</td>\n",
       "      <td>0</td>\n",
       "      <td>0</td>\n",
       "      <td>0</td>\n",
       "      <td>0</td>\n",
       "      <td>0</td>\n",
       "      <td>0</td>\n",
       "      <td>0</td>\n",
       "      <td>0</td>\n",
       "      <td>0</td>\n",
       "      <td>...</td>\n",
       "      <td>1</td>\n",
       "      <td>0</td>\n",
       "      <td>0</td>\n",
       "      <td>0</td>\n",
       "      <td>0</td>\n",
       "      <td>0</td>\n",
       "      <td>0</td>\n",
       "      <td>0</td>\n",
       "      <td>0</td>\n",
       "      <td>0</td>\n",
       "    </tr>\n",
       "  </tbody>\n",
       "</table>\n",
       "<p>4209 rows × 368 columns</p>\n",
       "</div>"
      ],
      "text/plain": [
       "      X10  X11  X12  X13  X14  X15  X16  X17  X18  X19  ...  X375  X376  X377  \\\n",
       "0       0    0    0    1    0    0    0    0    1    0  ...     0     0     1   \n",
       "1       0    0    0    0    0    0    0    0    1    0  ...     1     0     0   \n",
       "2       0    0    0    0    0    0    0    1    0    0  ...     0     0     0   \n",
       "3       0    0    0    0    0    0    0    0    0    0  ...     0     0     0   \n",
       "4       0    0    0    0    0    0    0    0    0    0  ...     0     0     0   \n",
       "...   ...  ...  ...  ...  ...  ...  ...  ...  ...  ...  ...   ...   ...   ...   \n",
       "4204    0    0    0    0    1    0    0    0    0    0  ...     1     0     0   \n",
       "4205    0    0    0    0    0    0    0    0    0    0  ...     0     1     0   \n",
       "4206    0    0    1    1    0    0    0    0    0    0  ...     0     0     1   \n",
       "4207    0    0    0    0    1    0    0    0    0    0  ...     0     0     0   \n",
       "4208    0    0    0    0    0    0    0    0    0    0  ...     1     0     0   \n",
       "\n",
       "      X378  X379  X380  X382  X383  X384  X385  \n",
       "0        0     0     0     0     0     0     0  \n",
       "1        0     0     0     0     0     0     0  \n",
       "2        0     0     0     1     0     0     0  \n",
       "3        0     0     0     0     0     0     0  \n",
       "4        0     0     0     0     0     0     0  \n",
       "...    ...   ...   ...   ...   ...   ...   ...  \n",
       "4204     0     0     0     0     0     0     0  \n",
       "4205     0     0     0     0     0     0     0  \n",
       "4206     0     0     0     0     0     0     0  \n",
       "4207     0     0     0     0     0     0     0  \n",
       "4208     0     0     0     0     0     0     0  \n",
       "\n",
       "[4209 rows x 368 columns]"
      ]
     },
     "execution_count": 13,
     "metadata": {},
     "output_type": "execute_result"
    }
   ],
   "source": [
    "X"
   ]
  },
  {
   "cell_type": "code",
   "execution_count": 14,
   "metadata": {},
   "outputs": [],
   "source": [
    "X= X.values\n",
    "y = y.values"
   ]
  },
  {
   "cell_type": "code",
   "execution_count": 15,
   "metadata": {},
   "outputs": [],
   "source": [
    "from sklearn.model_selection import train_test_split\n",
    "X_train, X_test, y_train, y_test = train_test_split(X,y, random_state=0, test_size = 0.2 )"
   ]
  },
  {
   "cell_type": "code",
   "execution_count": 16,
   "metadata": {},
   "outputs": [
    {
     "name": "stderr",
     "output_type": "stream",
     "text": [
      "Using TensorFlow backend.\n"
     ]
    }
   ],
   "source": [
    "import keras\n",
    "from keras.models import Sequential\n",
    "from keras.layers import Dense, Dropout, Activation, Flatten\n",
    "from keras.layers import Conv2D, MaxPooling2D\n",
    "from keras.layers.convolutional import Conv3D\n",
    "from keras.layers.convolutional_recurrent import ConvLSTM2D\n",
    "from keras.layers.normalization import BatchNormalization \n",
    "from keras.layers.advanced_activations import LeakyReLU \n",
    "\n",
    "from keras import backend as K"
   ]
  },
  {
   "cell_type": "code",
   "execution_count": 17,
   "metadata": {},
   "outputs": [],
   "source": [
    "batch_size = 150\n",
    "epochs =100\n",
    "# input image dimensions\n",
    "img_rows, img_cols = 23, 16\n",
    "#inputshape = X.shape[1]"
   ]
  },
  {
   "cell_type": "code",
   "execution_count": 18,
   "metadata": {},
   "outputs": [
    {
     "data": {
      "text/plain": [
       "(3367, 368)"
      ]
     },
     "execution_count": 18,
     "metadata": {},
     "output_type": "execute_result"
    }
   ],
   "source": [
    "X_train.shape"
   ]
  },
  {
   "cell_type": "code",
   "execution_count": 19,
   "metadata": {},
   "outputs": [
    {
     "data": {
      "text/plain": [
       "3367"
      ]
     },
     "execution_count": 19,
     "metadata": {},
     "output_type": "execute_result"
    }
   ],
   "source": [
    "X_train.shape[0]"
   ]
  },
  {
   "cell_type": "code",
   "execution_count": 20,
   "metadata": {},
   "outputs": [
    {
     "name": "stdout",
     "output_type": "stream",
     "text": [
      "x_train shape: (3367, 1, 23, 16, 1)\n",
      "3367 train samples\n",
      "842 test samples\n"
     ]
    }
   ],
   "source": [
    "if K.image_data_format() == 'channels_first':\n",
    "    X_train = X_train.reshape(X_train.shape[0],1, img_rows, img_cols,1)\n",
    "    X_test = X_test.reshape(X_test.shape[0], 1, img_rows, img_cols,1)\n",
    "    input_shape = (1, img_rows, img_cols)\n",
    "else:\n",
    "    X_train = X_train.reshape(X_train.shape[0],1, img_rows, img_cols, 1)\n",
    "    X_test = X_test.reshape(X_test.shape[0],1, img_rows, img_cols, 1)\n",
    "    input_shape = (img_rows, img_cols, 1)\n",
    "\n",
    "X_train = X_train.astype('float32')\n",
    "X_test = X_test.astype('float32')\n",
    "\n",
    "print('x_train shape:', X_train.shape)\n",
    "print(X_train.shape[0], 'train samples')\n",
    "print(X_test.shape[0], 'test samples')"
   ]
  },
  {
   "cell_type": "code",
   "execution_count": 21,
   "metadata": {},
   "outputs": [],
   "source": [
    "# X_train = X_train.reshape(X_train.shape[0], 1, img_rows, img_cols)\n",
    "# X_test = X_test.reshape(X_test.shape[0], 1, img_rows, img_cols)\n",
    "# print('x_train shape:', X_train.shape)\n",
    "# print(X_train.shape[0], 'train samples')\n",
    "# print(X_test.shape[0], 'test samples')"
   ]
  },
  {
   "cell_type": "code",
   "execution_count": 22,
   "metadata": {},
   "outputs": [],
   "source": [
    "# X_train = X_train.reshape(X_train.shape[0], img_rows, img_cols, 1)\n",
    "# X_test = X_test.reshape(X_test.shape[0], img_rows, img_cols, 1)\n",
    "# input_shape = (img_rows, img_cols, 1)\n",
    "# print('x_train shape:', X_train.shape)\n",
    "# print(X_train.shape[0], 'train samples')\n",
    "# print(X_test.shape[0], 'test samples')"
   ]
  },
  {
   "cell_type": "code",
   "execution_count": 23,
   "metadata": {},
   "outputs": [],
   "source": [
    "def r2_keras(y_true, y_pred):\n",
    "    SS_res =  K.sum(K.square( y_true - y_pred )) \n",
    "    SS_tot = K.sum(K.square( y_true - K.mean(y_true) ) ) \n",
    "    return ( 1 - SS_res/(SS_tot + K.epsilon()) )"
   ]
  },
  {
   "cell_type": "code",
   "execution_count": 24,
   "metadata": {},
   "outputs": [
    {
     "data": {
      "text/plain": [
       "<matplotlib.image.AxesImage at 0x7fe50f662890>"
      ]
     },
     "execution_count": 24,
     "metadata": {},
     "output_type": "execute_result"
    },
    {
     "data": {
      "image/png": "[encoded data removed]",
      "text/plain": [
       "<Figure size 432x288 with 1 Axes>"
      ]
     },
     "metadata": {
      "needs_background": "light"
     },
     "output_type": "display_data"
    }
   ],
   "source": [
    "import matplotlib.pyplot as plt\n",
    "\n",
    "plt.imshow(X_train[0].reshape(23,16))"
   ]
  },
  {
   "cell_type": "code",
   "execution_count": 25,
   "metadata": {},
   "outputs": [],
   "source": [
    "# from keras.layers.normalization import BatchNormalization\n",
    "\n",
    "# model = Sequential()\n",
    "# #model.add(Dense(256, activation='relu', input_dim=366))\n",
    "# model.add(Conv2D(64, (3, 3), activation='relu', input_shape = input_shape))\n",
    "# #model.add(Conv2D(128, (3, 3), activation='relu'))\n",
    "# #model.add(Conv2D(64, (3, 3), init='uniform'))\n",
    "\n",
    "# model.add(MaxPooling2D(pool_size=(2, 2)))\n",
    "\n",
    "# model.add(Flatten())\n",
    "\n",
    "# model.add(Dense(512, activation='relu'))\n",
    "# model.add(Dropout(0.1))\n",
    "\n",
    "# model.add(Dense(256, activation='relu'))\n",
    "# model.add(Dense(128, activation='relu'))\n",
    "\n",
    "# model.add(Dense(1, activation='linear'))\n",
    "\n",
    "\n",
    "# model.compile(loss='mean_squared_error', # one may use 'mean_absolute_error' as  mean_squared_error\n",
    "#                   optimizer='adam',\n",
    "#                   metrics=[r2_keras] # you can add several if needed\n",
    "#                  )\n",
    "\n",
    "# model.summary()"
   ]
  },
  {
   "cell_type": "code",
   "execution_count": 26,
   "metadata": {},
   "outputs": [],
   "source": [
    "# model = Sequential()\n",
    "\n",
    "# model.add(ConvLSTM2D(filters=40, kernel_size=(3, 3),\n",
    "#                    input_shape=(1, 23, 16, 1),\n",
    "#                    padding='same', return_sequences=True))\n",
    "# model.add(BatchNormalization())\n",
    "\n",
    "# model.add(ConvLSTM2D(filters=40, kernel_size=(3, 3),\n",
    "#                    padding='same', return_sequences=True))\n",
    "# model.add(BatchNormalization())\n",
    "\n",
    "# model.add(ConvLSTM2D(filters=40, kernel_size=(3, 3),\n",
    "#                    padding='same', return_sequences=True))\n",
    "# model.add(BatchNormalization())\n",
    "\n",
    "# model.add(ConvLSTM2D(filters=40, kernel_size=(3, 3),\n",
    "#                    padding='same', return_sequences=True))\n",
    "# model.add(BatchNormalization())\n",
    "\n",
    "# model.add(Flatten())\n",
    "\n",
    "# model.add(Dense(32, kernel_initializer='TruncatedNormal'))\n",
    "# model.add(LeakyReLU())\n",
    "# model.add(Dropout(0.2))\n",
    "\n",
    "# model.add(Dense(16, kernel_initializer='TruncatedNormal'))\n",
    "# model.add(LeakyReLU())\n",
    "# model.add(Dropout(0.2))\n",
    "\n",
    "# model.add(Dense(1, activation='linear'))\n",
    "\n",
    "# # model.add(Conv2D(filters=1, kernel_size=(3, 3, 3),\n",
    "# #                activation='linear',\n",
    "# #                padding='same', data_format='channels_last'))\n",
    "\n",
    "# model.compile(loss='mean_squared_error', optimizer='adam')"
   ]
  },
  {
   "cell_type": "code",
   "execution_count": 27,
   "metadata": {},
   "outputs": [],
   "source": [
    "model = Sequential()\n",
    "\n",
    "# Input shape: (samples, time, channels, rows, cols) see: https://keras.io/layers/recurrent/#convlstm2d\n",
    "model.add(ConvLSTM2D(\n",
    "        filters=8,\n",
    "        kernel_size=(10, 10),\n",
    "        input_shape=(1, 23, 16, 1),\n",
    "        padding='same',\n",
    "        return_sequences=True))\n",
    "model.add(LeakyReLU())\n",
    "model.add(BatchNormalization())\n",
    "\n",
    "model.add(ConvLSTM2D(\n",
    "        filters=8,\n",
    "        kernel_size=(5, 5),\n",
    "        padding='same',\n",
    "        return_sequences=False))\n",
    "model.add(LeakyReLU())\n",
    "model.add(BatchNormalization())\n",
    "model.add(Dropout(0.1))\n",
    "\n",
    "model.add(Flatten())\n",
    "\n",
    "model.add(Dense(32, kernel_initializer='TruncatedNormal'))\n",
    "model.add(LeakyReLU())\n",
    "model.add(Dropout(0.1))\n",
    "\n",
    "model.add(Dense(16, kernel_initializer='TruncatedNormal'))\n",
    "model.add(LeakyReLU())\n",
    "model.add(Dropout(0.1))\n",
    "\n",
    "model.add(Dense(1,activation='linear'))\n",
    "model.compile(loss='mean_squared_error', optimizer='adam',metrics=[r2_keras])"
   ]
  },
  {
   "cell_type": "code",
   "execution_count": 28,
   "metadata": {},
   "outputs": [
    {
     "name": "stdout",
     "output_type": "stream",
     "text": [
      "Model: \"sequential_1\"\n",
      "_________________________________________________________________\n",
      "Layer (type)                 Output Shape              Param #   \n",
      "=================================================================\n",
      "conv_lst_m2d_1 (ConvLSTM2D)  (None, 1, 23, 16, 8)      28832     \n",
      "_________________________________________________________________\n",
      "leaky_re_lu_1 (LeakyReLU)    (None, 1, 23, 16, 8)      0         \n",
      "_________________________________________________________________\n",
      "batch_normalization_1 (Batch (None, 1, 23, 16, 8)      32        \n",
      "_________________________________________________________________\n",
      "conv_lst_m2d_2 (ConvLSTM2D)  (None, 23, 16, 8)         12832     \n",
      "_________________________________________________________________\n",
      "leaky_re_lu_2 (LeakyReLU)    (None, 23, 16, 8)         0         \n",
      "_________________________________________________________________\n",
      "batch_normalization_2 (Batch (None, 23, 16, 8)         32        \n",
      "_________________________________________________________________\n",
      "dropout_1 (Dropout)          (None, 23, 16, 8)         0         \n",
      "_________________________________________________________________\n",
      "flatten_1 (Flatten)          (None, 2944)              0         \n",
      "_________________________________________________________________\n",
      "dense_1 (Dense)              (None, 32)                94240     \n",
      "_________________________________________________________________\n",
      "leaky_re_lu_3 (LeakyReLU)    (None, 32)                0         \n",
      "_________________________________________________________________\n",
      "dropout_2 (Dropout)          (None, 32)                0         \n",
      "_________________________________________________________________\n",
      "dense_2 (Dense)              (None, 16)                528       \n",
      "_________________________________________________________________\n",
      "leaky_re_lu_4 (LeakyReLU)    (None, 16)                0         \n",
      "_________________________________________________________________\n",
      "dropout_3 (Dropout)          (None, 16)                0         \n",
      "_________________________________________________________________\n",
      "dense_3 (Dense)              (None, 1)                 17        \n",
      "=================================================================\n",
      "Total params: 136,513\n",
      "Trainable params: 136,481\n",
      "Non-trainable params: 32\n",
      "_________________________________________________________________\n"
     ]
    }
   ],
   "source": [
    "model.summary()"
   ]
  },
  {
   "cell_type": "code",
   "execution_count": 29,
   "metadata": {},
   "outputs": [
    {
     "name": "stdout",
     "output_type": "stream",
     "text": [
      "Train on 3367 samples, validate on 842 samples\n",
      "Epoch 1/100\n",
      " - 15s - loss: 6738.0259 - val_loss: 10283.6291\n",
      "Epoch 2/100\n",
      " - 14s - loss: 942.7695 - val_loss: 10102.3361\n",
      "Epoch 3/100\n",
      " - 14s - loss: 584.6572 - val_loss: 9942.5456\n",
      "Epoch 4/100\n",
      " - 14s - loss: 515.6490 - val_loss: 9779.9873\n",
      "Epoch 5/100\n",
      " - 14s - loss: 453.6311 - val_loss: 9594.2424\n",
      "Epoch 6/100\n",
      " - 14s - loss: 416.8271 - val_loss: 9360.5957\n",
      "Epoch 7/100\n",
      " - 13s - loss: 388.3003 - val_loss: 9127.3995\n",
      "Epoch 8/100\n",
      " - 13s - loss: 363.4049 - val_loss: 8863.5321\n",
      "Epoch 9/100\n",
      " - 14s - loss: 346.3689 - val_loss: 8532.2504\n",
      "Epoch 10/100\n",
      " - 13s - loss: 341.6416 - val_loss: 8205.3368\n",
      "Epoch 11/100\n",
      " - 13s - loss: 350.8433 - val_loss: 7769.3893\n",
      "Epoch 12/100\n",
      " - 13s - loss: 343.4179 - val_loss: 7379.2983\n",
      "Epoch 13/100\n",
      " - 13s - loss: 335.6359 - val_loss: 6911.3424\n",
      "Epoch 14/100\n",
      " - 13s - loss: 331.3484 - val_loss: 6443.3894\n",
      "Epoch 15/100\n",
      " - 13s - loss: 305.6863 - val_loss: 5840.3480\n",
      "Epoch 16/100\n",
      " - 14s - loss: 303.4659 - val_loss: 5335.1113\n",
      "Epoch 17/100\n",
      " - 14s - loss: 309.4090 - val_loss: 4649.0912\n",
      "Epoch 18/100\n",
      " - 14s - loss: 318.5870 - val_loss: 4158.8854\n",
      "Epoch 19/100\n",
      " - 14s - loss: 317.0858 - val_loss: 3455.5965\n",
      "Epoch 20/100\n",
      " - 14s - loss: 307.3426 - val_loss: 3076.6938\n",
      "Epoch 21/100\n",
      " - 14s - loss: 306.5325 - val_loss: 2409.3538\n",
      "Epoch 22/100\n",
      " - 14s - loss: 303.4048 - val_loss: 1865.4215\n",
      "Epoch 23/100\n",
      " - 14s - loss: 310.5276 - val_loss: 1604.7076\n",
      "Epoch 24/100\n",
      " - 14s - loss: 303.9492 - val_loss: 1350.8062\n",
      "Epoch 25/100\n",
      " - 14s - loss: 308.7911 - val_loss: 1044.4456\n",
      "Epoch 26/100\n",
      " - 13s - loss: 304.8528 - val_loss: 690.3139\n",
      "Epoch 27/100\n",
      " - 13s - loss: 308.5722 - val_loss: 590.4788\n",
      "Epoch 28/100\n",
      " - 14s - loss: 306.0962 - val_loss: 488.9648\n",
      "Epoch 29/100\n",
      " - 14s - loss: 311.4672 - val_loss: 300.0699\n",
      "Epoch 30/100\n",
      " - 14s - loss: 304.5176 - val_loss: 226.6095\n",
      "Epoch 31/100\n",
      " - 14s - loss: 304.9743 - val_loss: 284.2480\n",
      "Epoch 32/100\n",
      " - 14s - loss: 317.1629 - val_loss: 236.7505\n",
      "Epoch 33/100\n",
      " - 15s - loss: 301.2849 - val_loss: 147.1759\n",
      "Epoch 34/100\n",
      " - 14s - loss: 297.4472 - val_loss: 145.4192\n",
      "Epoch 35/100\n",
      " - 13s - loss: 311.3039 - val_loss: 109.0867\n",
      "Epoch 36/100\n",
      " - 15s - loss: 309.1174 - val_loss: 115.0730\n",
      "Epoch 37/100\n",
      " - 15s - loss: 312.1036 - val_loss: 134.7181\n",
      "Epoch 38/100\n",
      " - 14s - loss: 288.9598 - val_loss: 114.3479\n",
      "Epoch 39/100\n",
      " - 15s - loss: 307.0500 - val_loss: 113.3167\n",
      "Epoch 40/100\n",
      " - 14s - loss: 307.5619 - val_loss: 107.5141\n",
      "Epoch 41/100\n",
      " - 14s - loss: 301.7513 - val_loss: 106.5578\n",
      "Epoch 42/100\n",
      " - 14s - loss: 298.8166 - val_loss: 106.0209\n",
      "Epoch 43/100\n",
      " - 14s - loss: 306.4615 - val_loss: 114.7780\n",
      "Epoch 44/100\n",
      " - 14s - loss: 312.3361 - val_loss: 106.0641\n",
      "Epoch 45/100\n",
      " - 15s - loss: 302.1860 - val_loss: 104.2020\n",
      "Epoch 46/100\n",
      " - 15s - loss: 307.9440 - val_loss: 105.0239\n",
      "Epoch 47/100\n",
      " - 15s - loss: 309.6046 - val_loss: 106.1933\n",
      "Epoch 48/100\n",
      " - 14s - loss: 298.8933 - val_loss: 109.6471\n",
      "Epoch 49/100\n",
      " - 14s - loss: 290.0347 - val_loss: 111.3643\n",
      "Epoch 50/100\n",
      " - 15s - loss: 323.1535 - val_loss: 105.5932\n",
      "Epoch 51/100\n",
      " - 14s - loss: 294.2002 - val_loss: 109.5831\n",
      "Epoch 52/100\n",
      " - 14s - loss: 317.6980 - val_loss: 109.3117\n",
      "Epoch 53/100\n",
      " - 14s - loss: 303.2763 - val_loss: 105.7012\n",
      "Epoch 54/100\n",
      " - 13s - loss: 321.4734 - val_loss: 104.0662\n",
      "Epoch 55/100\n",
      " - 13s - loss: 304.3216 - val_loss: 110.2901\n",
      "Epoch 56/100\n",
      " - 13s - loss: 284.4136 - val_loss: 102.6941\n",
      "Epoch 57/100\n",
      " - 13s - loss: 301.2423 - val_loss: 105.3275\n",
      "Epoch 58/100\n",
      " - 13s - loss: 298.4185 - val_loss: 106.7465\n",
      "Epoch 59/100\n",
      " - 14s - loss: 295.1300 - val_loss: 117.7771\n",
      "Epoch 60/100\n",
      " - 13s - loss: 297.1450 - val_loss: 126.5696\n",
      "Epoch 61/100\n",
      " - 13s - loss: 305.5625 - val_loss: 109.1334\n",
      "Epoch 62/100\n",
      " - 13s - loss: 294.0712 - val_loss: 111.7257\n",
      "Epoch 63/100\n",
      " - 13s - loss: 290.9147 - val_loss: 105.0289\n",
      "Epoch 64/100\n",
      " - 13s - loss: 290.8502 - val_loss: 106.3001\n",
      "Epoch 65/100\n",
      " - 13s - loss: 290.6518 - val_loss: 105.0041\n",
      "Epoch 66/100\n",
      " - 13s - loss: 300.8242 - val_loss: 114.2585\n",
      "Epoch 67/100\n",
      " - 13s - loss: 297.8422 - val_loss: 105.2719\n",
      "Epoch 68/100\n",
      " - 13s - loss: 290.2006 - val_loss: 128.4442\n",
      "Epoch 69/100\n",
      " - 13s - loss: 302.9730 - val_loss: 104.9115\n",
      "Epoch 70/100\n",
      " - 13s - loss: 299.0945 - val_loss: 121.9094\n",
      "Epoch 71/100\n",
      " - 13s - loss: 310.8175 - val_loss: 111.1512\n",
      "Epoch 72/100\n",
      " - 13s - loss: 293.1420 - val_loss: 106.8882\n",
      "Epoch 73/100\n",
      " - 13s - loss: 290.6976 - val_loss: 110.8735\n",
      "Epoch 74/100\n",
      " - 13s - loss: 300.6079 - val_loss: 119.6607\n",
      "Epoch 75/100\n",
      " - 13s - loss: 302.7598 - val_loss: 105.7552\n",
      "Epoch 76/100\n",
      " - 13s - loss: 300.4158 - val_loss: 143.2465\n",
      "Epoch 77/100\n",
      " - 13s - loss: 311.7358 - val_loss: 110.7255\n",
      "Epoch 78/100\n",
      " - 13s - loss: 299.0869 - val_loss: 140.3500\n",
      "Epoch 79/100\n",
      " - 13s - loss: 293.4589 - val_loss: 110.4784\n",
      "Epoch 80/100\n",
      " - 13s - loss: 305.6540 - val_loss: 116.4948\n",
      "Epoch 81/100\n",
      " - 14s - loss: 302.9358 - val_loss: 107.9953\n",
      "Epoch 82/100\n",
      " - 14s - loss: 298.2189 - val_loss: 106.2508\n",
      "Epoch 83/100\n",
      " - 14s - loss: 303.2095 - val_loss: 108.7374\n",
      "Epoch 84/100\n",
      " - 14s - loss: 299.1191 - val_loss: 111.0649\n",
      "Epoch 85/100\n",
      " - 14s - loss: 297.4528 - val_loss: 104.2689\n",
      "Epoch 86/100\n",
      " - 13s - loss: 297.8379 - val_loss: 106.8598\n",
      "Epoch 87/100\n",
      " - 13s - loss: 301.8942 - val_loss: 105.4886\n",
      "Epoch 88/100\n",
      " - 14s - loss: 301.3818 - val_loss: 105.3370\n",
      "Epoch 89/100\n",
      " - 13s - loss: 302.2889 - val_loss: 104.4418\n",
      "Epoch 90/100\n",
      " - 14s - loss: 296.6777 - val_loss: 106.4193\n",
      "Epoch 91/100\n",
      " - 17s - loss: 291.7608 - val_loss: 108.4883\n",
      "Epoch 92/100\n",
      " - 20s - loss: 296.0058 - val_loss: 112.6030\n",
      "Epoch 93/100\n",
      " - 19s - loss: 289.0400 - val_loss: 121.4196\n",
      "Epoch 94/100\n",
      " - 18s - loss: 306.5739 - val_loss: 106.7931\n",
      "Epoch 95/100\n",
      " - 17s - loss: 296.1138 - val_loss: 105.4984\n",
      "Epoch 96/100\n",
      " - 17s - loss: 291.5766 - val_loss: 114.7324\n",
      "Epoch 97/100\n",
      " - 17s - loss: 296.1256 - val_loss: 103.9823\n",
      "Epoch 98/100\n",
      " - 19s - loss: 296.9009 - val_loss: 106.3742\n",
      "Epoch 99/100\n",
      " - 19s - loss: 303.1530 - val_loss: 112.8044\n",
      "Epoch 100/100\n",
      " - 20s - loss: 308.2397 - val_loss: 105.7011\n"
     ]
    }
   ],
   "source": [
    "model.fit(X_train, y_train,\n",
    "          batch_size=batch_size,\n",
    "          epochs=epochs,\n",
    "          verbose=2,\n",
    "          validation_data=(X_test, y_test))\n",
    "score = model.evaluate(X_test, y_test, verbose=0)\n"
   ]
  },
  {
   "cell_type": "code",
   "execution_count": 30,
   "metadata": {},
   "outputs": [
    {
     "name": "stdout",
     "output_type": "stream",
     "text": [
      "Test loss: 105.70109929155001\n"
     ]
    }
   ],
   "source": [
    "print('Test loss:', score)"
   ]
  },
  {
   "cell_type": "code",
   "execution_count": 31,
   "metadata": {},
   "outputs": [
    {
     "data": {
      "text/plain": [
       "<matplotlib.collections.PathCollection at 0x7fe4b02265d0>"
      ]
     },
     "execution_count": 31,
     "metadata": {},
     "output_type": "execute_result"
    },
    {
     "data": {
      "image/png": "[encoded data removed]",
      "text/plain": [
       "<Figure size 432x288 with 1 Axes>"
      ]
     },
     "metadata": {
      "needs_background": "light"
     },
     "output_type": "display_data"
    }
   ],
   "source": [
    "preds = model.predict(X_test)\n",
    "preds = preds[:,0]\n",
    "plt.scatter(y_test, preds)\n"
   ]
  },
  {
   "cell_type": "code",
   "execution_count": 32,
   "metadata": {},
   "outputs": [
    {
     "data": {
      "text/plain": [
       "<matplotlib.axes._subplots.AxesSubplot at 0x7fe50f5ab610>"
      ]
     },
     "execution_count": 32,
     "metadata": {},
     "output_type": "execute_result"
    },
    {
     "data": {
      "image/png": "[encoded data removed]",
      "text/plain": [
       "<Figure size 432x288 with 1 Axes>"
      ]
     },
     "metadata": {
      "needs_background": "light"
     },
     "output_type": "display_data"
    }
   ],
   "source": [
    "residuals = y_test - preds\n",
    "sns.distplot(residuals)"
   ]
  },
  {
   "cell_type": "code",
   "execution_count": 33,
   "metadata": {},
   "outputs": [
    {
     "data": {
      "text/plain": [
       "0.4297032230870427"
      ]
     },
     "execution_count": 33,
     "metadata": {},
     "output_type": "execute_result"
    }
   ],
   "source": [
    "from sklearn.metrics import r2_score\n",
    "r2_score(y_test, preds)  "
   ]
  },
  {
   "cell_type": "code",
   "execution_count": null,
   "metadata": {},
   "outputs": [],
   "source": []
  }
 ],
 "metadata": {
  "kernelspec": {
   "display_name": "Python 3",
   "language": "python",
   "name": "python3"
  },
  "language_info": {
   "codemirror_mode": {
    "name": "ipython",
    "version": 3
   },
   "file_extension": ".py",
   "mimetype": "text/x-python",
   "name": "python",
   "nbconvert_exporter": "python",
   "pygments_lexer": "ipython3",
   "version": "3.7.5"
  }
 },
 "nbformat": 4,
 "nbformat_minor": 2
}
