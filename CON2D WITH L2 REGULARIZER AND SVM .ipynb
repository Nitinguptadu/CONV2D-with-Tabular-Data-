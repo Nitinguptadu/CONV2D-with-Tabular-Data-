{
 "cells": [
  {
   "cell_type": "code",
   "execution_count": 1,
   "metadata": {},
   "outputs": [],
   "source": [
    "import numpy as np \n",
    "import pandas as pd \n",
    "import seaborn as sns"
   ]
  },
  {
   "cell_type": "code",
   "execution_count": 2,
   "metadata": {},
   "outputs": [
    {
     "data": {
      "text/plain": [
       "array([[ 1,  2,  3,  4,  5,  6,  7,  8,  9, 10, 11, 12],\n",
       "       [ 1,  2,  3,  4,  5,  6,  7,  8,  9, 10, 11, 12]])"
      ]
     },
     "execution_count": 2,
     "metadata": {},
     "output_type": "execute_result"
    }
   ],
   "source": [
    "arr = np.array([[1, 2, 3, 4, 5, 6, 7, 8, 9, 10, 11, 12],[1, 2, 3, 4, 5, 6, 7, 8, 9, 10, 11, 12]])\n",
    "arr"
   ]
  },
  {
   "cell_type": "code",
   "execution_count": 3,
   "metadata": {},
   "outputs": [
    {
     "name": "stdout",
     "output_type": "stream",
     "text": [
      "(2, 1, 4, 3)\n",
      "[[[[ 1  2  3]\n",
      "   [ 4  5  6]\n",
      "   [ 7  8  9]\n",
      "   [10 11 12]]]\n",
      "\n",
      "\n",
      " [[[ 1  2  3]\n",
      "   [ 4  5  6]\n",
      "   [ 7  8  9]\n",
      "   [10 11 12]]]]\n"
     ]
    }
   ],
   "source": [
    "newarr = arr.reshape(2,1,4, 3)\n",
    "print(newarr.shape)\n",
    "print(newarr)"
   ]
  },
  {
   "cell_type": "code",
   "execution_count": 4,
   "metadata": {},
   "outputs": [
    {
     "name": "stdout",
     "output_type": "stream",
     "text": [
      "(2, 2, 3, 2)\n",
      "[[[[ 1  2]\n",
      "   [ 3  4]\n",
      "   [ 5  6]]\n",
      "\n",
      "  [[ 7  8]\n",
      "   [ 9 10]\n",
      "   [11 12]]]\n",
      "\n",
      "\n",
      " [[[ 1  2]\n",
      "   [ 3  4]\n",
      "   [ 5  6]]\n",
      "\n",
      "  [[ 7  8]\n",
      "   [ 9 10]\n",
      "   [11 12]]]]\n"
     ]
    }
   ],
   "source": [
    "newarr = arr.reshape(2,2,3, 2)\n",
    "print(newarr.shape)\n",
    "print(newarr)"
   ]
  },
  {
   "cell_type": "code",
   "execution_count": 5,
   "metadata": {},
   "outputs": [
    {
     "data": {
      "text/plain": [
       "array([[ 1,  2,  3,  4,  5,  6,  7,  8,  9, 10, 11, 12],\n",
       "       [ 1,  2,  3,  4,  5,  6,  7,  8,  9, 10, 11, 12]])"
      ]
     },
     "execution_count": 5,
     "metadata": {},
     "output_type": "execute_result"
    }
   ],
   "source": [
    "arr = np.array([[1, 2, 3, 4, 5, 6, 7, 8, 9, 10, 11, 12],[1, 2, 3, 4, 5, 6, 7, 8, 9, 10, 11, 12]])\n",
    "arr"
   ]
  },
  {
   "cell_type": "code",
   "execution_count": 6,
   "metadata": {},
   "outputs": [
    {
     "name": "stdout",
     "output_type": "stream",
     "text": [
      "(2, 4, 3, 1)\n",
      "[[[[ 1]\n",
      "   [ 2]\n",
      "   [ 3]]\n",
      "\n",
      "  [[ 4]\n",
      "   [ 5]\n",
      "   [ 6]]\n",
      "\n",
      "  [[ 7]\n",
      "   [ 8]\n",
      "   [ 9]]\n",
      "\n",
      "  [[10]\n",
      "   [11]\n",
      "   [12]]]\n",
      "\n",
      "\n",
      " [[[ 1]\n",
      "   [ 2]\n",
      "   [ 3]]\n",
      "\n",
      "  [[ 4]\n",
      "   [ 5]\n",
      "   [ 6]]\n",
      "\n",
      "  [[ 7]\n",
      "   [ 8]\n",
      "   [ 9]]\n",
      "\n",
      "  [[10]\n",
      "   [11]\n",
      "   [12]]]]\n"
     ]
    }
   ],
   "source": [
    "newarr = arr.reshape(2,4, 3,1)\n",
    "print(newarr.shape)\n",
    "print(newarr)"
   ]
  },
  {
   "cell_type": "code",
   "execution_count": null,
   "metadata": {},
   "outputs": [],
   "source": []
  },
  {
   "cell_type": "code",
   "execution_count": 7,
   "metadata": {},
   "outputs": [],
   "source": [
    "data = pd.read_csv(\"train.csv\")"
   ]
  },
  {
   "cell_type": "code",
   "execution_count": 8,
   "metadata": {},
   "outputs": [],
   "source": [
    "dtest = pd.read_csv(\"test.csv\")"
   ]
  },
  {
   "cell_type": "code",
   "execution_count": 9,
   "metadata": {},
   "outputs": [
    {
     "data": {
      "text/html": [
       "<div>\n",
       "<style scoped>\n",
       "    .dataframe tbody tr th:only-of-type {\n",
       "        vertical-align: middle;\n",
       "    }\n",
       "\n",
       "    .dataframe tbody tr th {\n",
       "        vertical-align: top;\n",
       "    }\n",
       "\n",
       "    .dataframe thead th {\n",
       "        text-align: right;\n",
       "    }\n",
       "</style>\n",
       "<table border=\"1\" class=\"dataframe\">\n",
       "  <thead>\n",
       "    <tr style=\"text-align: right;\">\n",
       "      <th></th>\n",
       "      <th>ID</th>\n",
       "      <th>y</th>\n",
       "      <th>X0</th>\n",
       "      <th>X1</th>\n",
       "      <th>X2</th>\n",
       "      <th>X3</th>\n",
       "      <th>X4</th>\n",
       "      <th>X5</th>\n",
       "      <th>X6</th>\n",
       "      <th>X8</th>\n",
       "      <th>...</th>\n",
       "      <th>X375</th>\n",
       "      <th>X376</th>\n",
       "      <th>X377</th>\n",
       "      <th>X378</th>\n",
       "      <th>X379</th>\n",
       "      <th>X380</th>\n",
       "      <th>X382</th>\n",
       "      <th>X383</th>\n",
       "      <th>X384</th>\n",
       "      <th>X385</th>\n",
       "    </tr>\n",
       "  </thead>\n",
       "  <tbody>\n",
       "    <tr>\n",
       "      <th>0</th>\n",
       "      <td>0</td>\n",
       "      <td>130.81</td>\n",
       "      <td>k</td>\n",
       "      <td>v</td>\n",
       "      <td>at</td>\n",
       "      <td>a</td>\n",
       "      <td>d</td>\n",
       "      <td>u</td>\n",
       "      <td>j</td>\n",
       "      <td>o</td>\n",
       "      <td>...</td>\n",
       "      <td>0</td>\n",
       "      <td>0</td>\n",
       "      <td>1</td>\n",
       "      <td>0</td>\n",
       "      <td>0</td>\n",
       "      <td>0</td>\n",
       "      <td>0</td>\n",
       "      <td>0</td>\n",
       "      <td>0</td>\n",
       "      <td>0</td>\n",
       "    </tr>\n",
       "    <tr>\n",
       "      <th>1</th>\n",
       "      <td>6</td>\n",
       "      <td>88.53</td>\n",
       "      <td>k</td>\n",
       "      <td>t</td>\n",
       "      <td>av</td>\n",
       "      <td>e</td>\n",
       "      <td>d</td>\n",
       "      <td>y</td>\n",
       "      <td>l</td>\n",
       "      <td>o</td>\n",
       "      <td>...</td>\n",
       "      <td>1</td>\n",
       "      <td>0</td>\n",
       "      <td>0</td>\n",
       "      <td>0</td>\n",
       "      <td>0</td>\n",
       "      <td>0</td>\n",
       "      <td>0</td>\n",
       "      <td>0</td>\n",
       "      <td>0</td>\n",
       "      <td>0</td>\n",
       "    </tr>\n",
       "    <tr>\n",
       "      <th>2</th>\n",
       "      <td>7</td>\n",
       "      <td>76.26</td>\n",
       "      <td>az</td>\n",
       "      <td>w</td>\n",
       "      <td>n</td>\n",
       "      <td>c</td>\n",
       "      <td>d</td>\n",
       "      <td>x</td>\n",
       "      <td>j</td>\n",
       "      <td>x</td>\n",
       "      <td>...</td>\n",
       "      <td>0</td>\n",
       "      <td>0</td>\n",
       "      <td>0</td>\n",
       "      <td>0</td>\n",
       "      <td>0</td>\n",
       "      <td>0</td>\n",
       "      <td>1</td>\n",
       "      <td>0</td>\n",
       "      <td>0</td>\n",
       "      <td>0</td>\n",
       "    </tr>\n",
       "    <tr>\n",
       "      <th>3</th>\n",
       "      <td>9</td>\n",
       "      <td>80.62</td>\n",
       "      <td>az</td>\n",
       "      <td>t</td>\n",
       "      <td>n</td>\n",
       "      <td>f</td>\n",
       "      <td>d</td>\n",
       "      <td>x</td>\n",
       "      <td>l</td>\n",
       "      <td>e</td>\n",
       "      <td>...</td>\n",
       "      <td>0</td>\n",
       "      <td>0</td>\n",
       "      <td>0</td>\n",
       "      <td>0</td>\n",
       "      <td>0</td>\n",
       "      <td>0</td>\n",
       "      <td>0</td>\n",
       "      <td>0</td>\n",
       "      <td>0</td>\n",
       "      <td>0</td>\n",
       "    </tr>\n",
       "    <tr>\n",
       "      <th>4</th>\n",
       "      <td>13</td>\n",
       "      <td>78.02</td>\n",
       "      <td>az</td>\n",
       "      <td>v</td>\n",
       "      <td>n</td>\n",
       "      <td>f</td>\n",
       "      <td>d</td>\n",
       "      <td>h</td>\n",
       "      <td>d</td>\n",
       "      <td>n</td>\n",
       "      <td>...</td>\n",
       "      <td>0</td>\n",
       "      <td>0</td>\n",
       "      <td>0</td>\n",
       "      <td>0</td>\n",
       "      <td>0</td>\n",
       "      <td>0</td>\n",
       "      <td>0</td>\n",
       "      <td>0</td>\n",
       "      <td>0</td>\n",
       "      <td>0</td>\n",
       "    </tr>\n",
       "  </tbody>\n",
       "</table>\n",
       "<p>5 rows × 378 columns</p>\n",
       "</div>"
      ],
      "text/plain": [
       "   ID       y  X0 X1  X2 X3 X4 X5 X6 X8  ...  X375  X376  X377  X378  X379  \\\n",
       "0   0  130.81   k  v  at  a  d  u  j  o  ...     0     0     1     0     0   \n",
       "1   6   88.53   k  t  av  e  d  y  l  o  ...     1     0     0     0     0   \n",
       "2   7   76.26  az  w   n  c  d  x  j  x  ...     0     0     0     0     0   \n",
       "3   9   80.62  az  t   n  f  d  x  l  e  ...     0     0     0     0     0   \n",
       "4  13   78.02  az  v   n  f  d  h  d  n  ...     0     0     0     0     0   \n",
       "\n",
       "   X380  X382  X383  X384  X385  \n",
       "0     0     0     0     0     0  \n",
       "1     0     0     0     0     0  \n",
       "2     0     1     0     0     0  \n",
       "3     0     0     0     0     0  \n",
       "4     0     0     0     0     0  \n",
       "\n",
       "[5 rows x 378 columns]"
      ]
     },
     "execution_count": 9,
     "metadata": {},
     "output_type": "execute_result"
    }
   ],
   "source": [
    "data.head()"
   ]
  },
  {
   "cell_type": "code",
   "execution_count": 10,
   "metadata": {},
   "outputs": [],
   "source": [
    "data =  data.drop([\"ID\",\"X0\",\"X1\",\"X2\",\"X3\",\"X4\",\"X5\",\"X6\",\"X8\" ], axis = 1)"
   ]
  },
  {
   "cell_type": "code",
   "execution_count": 11,
   "metadata": {},
   "outputs": [
    {
     "data": {
      "text/plain": [
       "(4209, 368)"
      ]
     },
     "execution_count": 11,
     "metadata": {},
     "output_type": "execute_result"
    }
   ],
   "source": [
    "X = data.drop(\"y\" , axis =  1)\n",
    "y = data[\"y\"]\n",
    "X.shape"
   ]
  },
  {
   "cell_type": "code",
   "execution_count": 12,
   "metadata": {},
   "outputs": [
    {
     "data": {
      "text/plain": [
       "130.81"
      ]
     },
     "execution_count": 12,
     "metadata": {},
     "output_type": "execute_result"
    }
   ],
   "source": [
    "y[0]"
   ]
  },
  {
   "cell_type": "code",
   "execution_count": 13,
   "metadata": {},
   "outputs": [
    {
     "data": {
      "text/html": [
       "<div>\n",
       "<style scoped>\n",
       "    .dataframe tbody tr th:only-of-type {\n",
       "        vertical-align: middle;\n",
       "    }\n",
       "\n",
       "    .dataframe tbody tr th {\n",
       "        vertical-align: top;\n",
       "    }\n",
       "\n",
       "    .dataframe thead th {\n",
       "        text-align: right;\n",
       "    }\n",
       "</style>\n",
       "<table border=\"1\" class=\"dataframe\">\n",
       "  <thead>\n",
       "    <tr style=\"text-align: right;\">\n",
       "      <th></th>\n",
       "      <th>X10</th>\n",
       "      <th>X11</th>\n",
       "      <th>X12</th>\n",
       "      <th>X13</th>\n",
       "      <th>X14</th>\n",
       "      <th>X15</th>\n",
       "      <th>X16</th>\n",
       "      <th>X17</th>\n",
       "      <th>X18</th>\n",
       "      <th>X19</th>\n",
       "      <th>...</th>\n",
       "      <th>X375</th>\n",
       "      <th>X376</th>\n",
       "      <th>X377</th>\n",
       "      <th>X378</th>\n",
       "      <th>X379</th>\n",
       "      <th>X380</th>\n",
       "      <th>X382</th>\n",
       "      <th>X383</th>\n",
       "      <th>X384</th>\n",
       "      <th>X385</th>\n",
       "    </tr>\n",
       "  </thead>\n",
       "  <tbody>\n",
       "    <tr>\n",
       "      <th>0</th>\n",
       "      <td>0</td>\n",
       "      <td>0</td>\n",
       "      <td>0</td>\n",
       "      <td>1</td>\n",
       "      <td>0</td>\n",
       "      <td>0</td>\n",
       "      <td>0</td>\n",
       "      <td>0</td>\n",
       "      <td>1</td>\n",
       "      <td>0</td>\n",
       "      <td>...</td>\n",
       "      <td>0</td>\n",
       "      <td>0</td>\n",
       "      <td>1</td>\n",
       "      <td>0</td>\n",
       "      <td>0</td>\n",
       "      <td>0</td>\n",
       "      <td>0</td>\n",
       "      <td>0</td>\n",
       "      <td>0</td>\n",
       "      <td>0</td>\n",
       "    </tr>\n",
       "    <tr>\n",
       "      <th>1</th>\n",
       "      <td>0</td>\n",
       "      <td>0</td>\n",
       "      <td>0</td>\n",
       "      <td>0</td>\n",
       "      <td>0</td>\n",
       "      <td>0</td>\n",
       "      <td>0</td>\n",
       "      <td>0</td>\n",
       "      <td>1</td>\n",
       "      <td>0</td>\n",
       "      <td>...</td>\n",
       "      <td>1</td>\n",
       "      <td>0</td>\n",
       "      <td>0</td>\n",
       "      <td>0</td>\n",
       "      <td>0</td>\n",
       "      <td>0</td>\n",
       "      <td>0</td>\n",
       "      <td>0</td>\n",
       "      <td>0</td>\n",
       "      <td>0</td>\n",
       "    </tr>\n",
       "    <tr>\n",
       "      <th>2</th>\n",
       "      <td>0</td>\n",
       "      <td>0</td>\n",
       "      <td>0</td>\n",
       "      <td>0</td>\n",
       "      <td>0</td>\n",
       "      <td>0</td>\n",
       "      <td>0</td>\n",
       "      <td>1</td>\n",
       "      <td>0</td>\n",
       "      <td>0</td>\n",
       "      <td>...</td>\n",
       "      <td>0</td>\n",
       "      <td>0</td>\n",
       "      <td>0</td>\n",
       "      <td>0</td>\n",
       "      <td>0</td>\n",
       "      <td>0</td>\n",
       "      <td>1</td>\n",
       "      <td>0</td>\n",
       "      <td>0</td>\n",
       "      <td>0</td>\n",
       "    </tr>\n",
       "    <tr>\n",
       "      <th>3</th>\n",
       "      <td>0</td>\n",
       "      <td>0</td>\n",
       "      <td>0</td>\n",
       "      <td>0</td>\n",
       "      <td>0</td>\n",
       "      <td>0</td>\n",
       "      <td>0</td>\n",
       "      <td>0</td>\n",
       "      <td>0</td>\n",
       "      <td>0</td>\n",
       "      <td>...</td>\n",
       "      <td>0</td>\n",
       "      <td>0</td>\n",
       "      <td>0</td>\n",
       "      <td>0</td>\n",
       "      <td>0</td>\n",
       "      <td>0</td>\n",
       "      <td>0</td>\n",
       "      <td>0</td>\n",
       "      <td>0</td>\n",
       "      <td>0</td>\n",
       "    </tr>\n",
       "    <tr>\n",
       "      <th>4</th>\n",
       "      <td>0</td>\n",
       "      <td>0</td>\n",
       "      <td>0</td>\n",
       "      <td>0</td>\n",
       "      <td>0</td>\n",
       "      <td>0</td>\n",
       "      <td>0</td>\n",
       "      <td>0</td>\n",
       "      <td>0</td>\n",
       "      <td>0</td>\n",
       "      <td>...</td>\n",
       "      <td>0</td>\n",
       "      <td>0</td>\n",
       "      <td>0</td>\n",
       "      <td>0</td>\n",
       "      <td>0</td>\n",
       "      <td>0</td>\n",
       "      <td>0</td>\n",
       "      <td>0</td>\n",
       "      <td>0</td>\n",
       "      <td>0</td>\n",
       "    </tr>\n",
       "    <tr>\n",
       "      <th>...</th>\n",
       "      <td>...</td>\n",
       "      <td>...</td>\n",
       "      <td>...</td>\n",
       "      <td>...</td>\n",
       "      <td>...</td>\n",
       "      <td>...</td>\n",
       "      <td>...</td>\n",
       "      <td>...</td>\n",
       "      <td>...</td>\n",
       "      <td>...</td>\n",
       "      <td>...</td>\n",
       "      <td>...</td>\n",
       "      <td>...</td>\n",
       "      <td>...</td>\n",
       "      <td>...</td>\n",
       "      <td>...</td>\n",
       "      <td>...</td>\n",
       "      <td>...</td>\n",
       "      <td>...</td>\n",
       "      <td>...</td>\n",
       "      <td>...</td>\n",
       "    </tr>\n",
       "    <tr>\n",
       "      <th>4204</th>\n",
       "      <td>0</td>\n",
       "      <td>0</td>\n",
       "      <td>0</td>\n",
       "      <td>0</td>\n",
       "      <td>1</td>\n",
       "      <td>0</td>\n",
       "      <td>0</td>\n",
       "      <td>0</td>\n",
       "      <td>0</td>\n",
       "      <td>0</td>\n",
       "      <td>...</td>\n",
       "      <td>1</td>\n",
       "      <td>0</td>\n",
       "      <td>0</td>\n",
       "      <td>0</td>\n",
       "      <td>0</td>\n",
       "      <td>0</td>\n",
       "      <td>0</td>\n",
       "      <td>0</td>\n",
       "      <td>0</td>\n",
       "      <td>0</td>\n",
       "    </tr>\n",
       "    <tr>\n",
       "      <th>4205</th>\n",
       "      <td>0</td>\n",
       "      <td>0</td>\n",
       "      <td>0</td>\n",
       "      <td>0</td>\n",
       "      <td>0</td>\n",
       "      <td>0</td>\n",
       "      <td>0</td>\n",
       "      <td>0</td>\n",
       "      <td>0</td>\n",
       "      <td>0</td>\n",
       "      <td>...</td>\n",
       "      <td>0</td>\n",
       "      <td>1</td>\n",
       "      <td>0</td>\n",
       "      <td>0</td>\n",
       "      <td>0</td>\n",
       "      <td>0</td>\n",
       "      <td>0</td>\n",
       "      <td>0</td>\n",
       "      <td>0</td>\n",
       "      <td>0</td>\n",
       "    </tr>\n",
       "    <tr>\n",
       "      <th>4206</th>\n",
       "      <td>0</td>\n",
       "      <td>0</td>\n",
       "      <td>1</td>\n",
       "      <td>1</td>\n",
       "      <td>0</td>\n",
       "      <td>0</td>\n",
       "      <td>0</td>\n",
       "      <td>0</td>\n",
       "      <td>0</td>\n",
       "      <td>0</td>\n",
       "      <td>...</td>\n",
       "      <td>0</td>\n",
       "      <td>0</td>\n",
       "      <td>1</td>\n",
       "      <td>0</td>\n",
       "      <td>0</td>\n",
       "      <td>0</td>\n",
       "      <td>0</td>\n",
       "      <td>0</td>\n",
       "      <td>0</td>\n",
       "      <td>0</td>\n",
       "    </tr>\n",
       "    <tr>\n",
       "      <th>4207</th>\n",
       "      <td>0</td>\n",
       "      <td>0</td>\n",
       "      <td>0</td>\n",
       "      <td>0</td>\n",
       "      <td>1</td>\n",
       "      <td>0</td>\n",
       "      <td>0</td>\n",
       "      <td>0</td>\n",
       "      <td>0</td>\n",
       "      <td>0</td>\n",
       "      <td>...</td>\n",
       "      <td>0</td>\n",
       "      <td>0</td>\n",
       "      <td>0</td>\n",
       "      <td>0</td>\n",
       "      <td>0</td>\n",
       "      <td>0</td>\n",
       "      <td>0</td>\n",
       "      <td>0</td>\n",
       "      <td>0</td>\n",
       "      <td>0</td>\n",
       "    </tr>\n",
       "    <tr>\n",
       "      <th>4208</th>\n",
       "      <td>0</td>\n",
       "      <td>0</td>\n",
       "      <td>0</td>\n",
       "      <td>0</td>\n",
       "      <td>0</td>\n",
       "      <td>0</td>\n",
       "      <td>0</td>\n",
       "      <td>0</td>\n",
       "      <td>0</td>\n",
       "      <td>0</td>\n",
       "      <td>...</td>\n",
       "      <td>1</td>\n",
       "      <td>0</td>\n",
       "      <td>0</td>\n",
       "      <td>0</td>\n",
       "      <td>0</td>\n",
       "      <td>0</td>\n",
       "      <td>0</td>\n",
       "      <td>0</td>\n",
       "      <td>0</td>\n",
       "      <td>0</td>\n",
       "    </tr>\n",
       "  </tbody>\n",
       "</table>\n",
       "<p>4209 rows × 368 columns</p>\n",
       "</div>"
      ],
      "text/plain": [
       "      X10  X11  X12  X13  X14  X15  X16  X17  X18  X19  ...  X375  X376  X377  \\\n",
       "0       0    0    0    1    0    0    0    0    1    0  ...     0     0     1   \n",
       "1       0    0    0    0    0    0    0    0    1    0  ...     1     0     0   \n",
       "2       0    0    0    0    0    0    0    1    0    0  ...     0     0     0   \n",
       "3       0    0    0    0    0    0    0    0    0    0  ...     0     0     0   \n",
       "4       0    0    0    0    0    0    0    0    0    0  ...     0     0     0   \n",
       "...   ...  ...  ...  ...  ...  ...  ...  ...  ...  ...  ...   ...   ...   ...   \n",
       "4204    0    0    0    0    1    0    0    0    0    0  ...     1     0     0   \n",
       "4205    0    0    0    0    0    0    0    0    0    0  ...     0     1     0   \n",
       "4206    0    0    1    1    0    0    0    0    0    0  ...     0     0     1   \n",
       "4207    0    0    0    0    1    0    0    0    0    0  ...     0     0     0   \n",
       "4208    0    0    0    0    0    0    0    0    0    0  ...     1     0     0   \n",
       "\n",
       "      X378  X379  X380  X382  X383  X384  X385  \n",
       "0        0     0     0     0     0     0     0  \n",
       "1        0     0     0     0     0     0     0  \n",
       "2        0     0     0     1     0     0     0  \n",
       "3        0     0     0     0     0     0     0  \n",
       "4        0     0     0     0     0     0     0  \n",
       "...    ...   ...   ...   ...   ...   ...   ...  \n",
       "4204     0     0     0     0     0     0     0  \n",
       "4205     0     0     0     0     0     0     0  \n",
       "4206     0     0     0     0     0     0     0  \n",
       "4207     0     0     0     0     0     0     0  \n",
       "4208     0     0     0     0     0     0     0  \n",
       "\n",
       "[4209 rows x 368 columns]"
      ]
     },
     "execution_count": 13,
     "metadata": {},
     "output_type": "execute_result"
    }
   ],
   "source": [
    "X"
   ]
  },
  {
   "cell_type": "code",
   "execution_count": 14,
   "metadata": {},
   "outputs": [],
   "source": [
    "X= X.values\n",
    "y = y.values"
   ]
  },
  {
   "cell_type": "code",
   "execution_count": 15,
   "metadata": {},
   "outputs": [],
   "source": [
    "from sklearn.model_selection import train_test_split\n",
    "X_train, X_test, y_train, y_test = train_test_split(X,y, random_state=0, test_size = 0.2 )"
   ]
  },
  {
   "cell_type": "code",
   "execution_count": 16,
   "metadata": {},
   "outputs": [
    {
     "name": "stderr",
     "output_type": "stream",
     "text": [
      "Using TensorFlow backend.\n"
     ]
    }
   ],
   "source": [
    "import keras\n",
    "from keras.models import Sequential\n",
    "from keras.layers import Dense, Dropout, Activation, Flatten\n",
    "from keras.layers import Conv2D, MaxPooling2D\n",
    "from keras.losses import huber_loss\n",
    "\n",
    "from keras import backend as K"
   ]
  },
  {
   "cell_type": "code",
   "execution_count": 17,
   "metadata": {},
   "outputs": [],
   "source": [
    "batch_size = 150\n",
    "epochs =100\n",
    "# input image dimensions\n",
    "img_rows, img_cols = 23, 16\n",
    "#inputshape = X.shape[1]"
   ]
  },
  {
   "cell_type": "code",
   "execution_count": 18,
   "metadata": {},
   "outputs": [
    {
     "data": {
      "text/plain": [
       "(3367, 368)"
      ]
     },
     "execution_count": 18,
     "metadata": {},
     "output_type": "execute_result"
    }
   ],
   "source": [
    "X_train.shape"
   ]
  },
  {
   "cell_type": "code",
   "execution_count": 19,
   "metadata": {},
   "outputs": [
    {
     "data": {
      "text/plain": [
       "3367"
      ]
     },
     "execution_count": 19,
     "metadata": {},
     "output_type": "execute_result"
    }
   ],
   "source": [
    "X_train.shape[0]"
   ]
  },
  {
   "cell_type": "code",
   "execution_count": 20,
   "metadata": {},
   "outputs": [
    {
     "name": "stdout",
     "output_type": "stream",
     "text": [
      "x_train shape: (3367, 23, 16, 1)\n",
      "3367 train samples\n",
      "842 test samples\n"
     ]
    }
   ],
   "source": [
    "if K.image_data_format() == 'channels_first':\n",
    "    X_train = X_train.reshape(X_train.shape[0], 1, img_rows, img_cols)\n",
    "    X_test = X_test.reshape(X_test.shape[0], 1, img_rows, img_cols)\n",
    "    input_shape = (1, img_rows, img_cols)\n",
    "else:\n",
    "    X_train = X_train.reshape(X_train.shape[0], img_rows, img_cols, 1)\n",
    "    X_test = X_test.reshape(X_test.shape[0], img_rows, img_cols, 1)\n",
    "    input_shape = (img_rows, img_cols, 1)\n",
    "\n",
    "X_train = X_train.astype('float32')\n",
    "X_test = X_test.astype('float32')\n",
    "\n",
    "print('x_train shape:', X_train.shape)\n",
    "print(X_train.shape[0], 'train samples')\n",
    "print(X_test.shape[0], 'test samples')"
   ]
  },
  {
   "cell_type": "code",
   "execution_count": 21,
   "metadata": {},
   "outputs": [],
   "source": [
    "# X_train = X_train.reshape(X_train.shape[0], 1, img_rows, img_cols)\n",
    "# X_test = X_test.reshape(X_test.shape[0], 1, img_rows, img_cols)\n",
    "# print('x_train shape:', X_train.shape)\n",
    "# print(X_train.shape[0], 'train samples')\n",
    "# print(X_test.shape[0], 'test samples')"
   ]
  },
  {
   "cell_type": "code",
   "execution_count": 22,
   "metadata": {},
   "outputs": [],
   "source": [
    "# X_train = X_train.reshape(X_train.shape[0], img_rows, img_cols, 1)\n",
    "# X_test = X_test.reshape(X_test.shape[0], img_rows, img_cols, 1)\n",
    "# input_shape = (img_rows, img_cols, 1)\n",
    "# print('x_train shape:', X_train.shape)\n",
    "# print(X_train.shape[0], 'train samples')\n",
    "# print(X_test.shape[0], 'test samples')"
   ]
  },
  {
   "cell_type": "code",
   "execution_count": 23,
   "metadata": {},
   "outputs": [],
   "source": [
    "def r2_keras(y_true, y_pred):\n",
    "    SS_res =  K.sum(K.square( y_true - y_pred )) \n",
    "    SS_tot = K.sum(K.square( y_true - K.mean(y_true) ) ) \n",
    "    return ( 1 - SS_res/(SS_tot + K.epsilon()) )"
   ]
  },
  {
   "cell_type": "code",
   "execution_count": 24,
   "metadata": {},
   "outputs": [
    {
     "data": {
      "text/plain": [
       "<matplotlib.image.AxesImage at 0x7f949f410690>"
      ]
     },
     "execution_count": 24,
     "metadata": {},
     "output_type": "execute_result"
    },
    {
     "data": {
      "image/png": "[encoded data removed]",
      "text/plain": [
       "<Figure size 432x288 with 1 Axes>"
      ]
     },
     "metadata": {
      "needs_background": "light"
     },
     "output_type": "display_data"
    }
   ],
   "source": [
    "import matplotlib.pyplot as plt\n",
    "\n",
    "plt.imshow(X_train[0].reshape(23,16))"
   ]
  },
  {
   "cell_type": "code",
   "execution_count": 25,
   "metadata": {},
   "outputs": [
    {
     "data": {
      "application/javascript": [
       "\n",
       "        if (window._pyforest_update_imports_cell) { window._pyforest_update_imports_cell('import tensorflow as tf'); }\n",
       "    "
      ],
      "text/plain": [
       "<IPython.core.display.Javascript object>"
      ]
     },
     "metadata": {},
     "output_type": "display_data"
    },
    {
     "name": "stdout",
     "output_type": "stream",
     "text": [
      "Model: \"sequential_1\"\n",
      "_________________________________________________________________\n",
      "Layer (type)                 Output Shape              Param #   \n",
      "=================================================================\n",
      "conv2d_1 (Conv2D)            (None, 21, 14, 64)        640       \n",
      "_________________________________________________________________\n",
      "max_pooling2d_1 (MaxPooling2 (None, 10, 7, 64)         0         \n",
      "_________________________________________________________________\n",
      "flatten_1 (Flatten)          (None, 4480)              0         \n",
      "_________________________________________________________________\n",
      "dense_1 (Dense)              (None, 512)               2294272   \n",
      "_________________________________________________________________\n",
      "dropout_1 (Dropout)          (None, 512)               0         \n",
      "_________________________________________________________________\n",
      "dense_2 (Dense)              (None, 256)               131328    \n",
      "_________________________________________________________________\n",
      "dense_3 (Dense)              (None, 128)               32896     \n",
      "_________________________________________________________________\n",
      "dense_4 (Dense)              (None, 1)                 129       \n",
      "=================================================================\n",
      "Total params: 2,459,265\n",
      "Trainable params: 2,459,265\n",
      "Non-trainable params: 0\n",
      "_________________________________________________________________\n"
     ]
    }
   ],
   "source": [
    "from keras.layers.normalization import BatchNormalization\n",
    "\n",
    "model = Sequential()\n",
    "#model.add(Dense(256, activation='relu', input_dim=366))\n",
    "model.add(Conv2D(64, (3, 3), activation='relu', input_shape = input_shape))\n",
    "#model.add(Conv2D(128, (3, 3), activation='relu'))\n",
    "#model.add(Conv2D(64, (3, 3), init='uniform'))\n",
    "\n",
    "model.add(MaxPooling2D(pool_size=(2, 2)))\n",
    "\n",
    "model.add(Flatten())\n",
    "\n",
    "model.add(Dense(512, activation='relu'))\n",
    "model.add(Dropout(0.1))\n",
    "\n",
    "model.add(Dense(256, activation='relu'))\n",
    "model.add(Dense(128, activation='relu'))\n",
    "\n",
    "model.add(Dense(1,kernel_regularizer=tf.keras.regularizers.l2(0.01),activation\n",
    "             ='linear'))\n",
    "\n",
    "\n",
    "model.compile(loss='huber_loss', # one may use 'mean_absolute_error' as  mean_squared_error\n",
    "                  optimizer='adam',\n",
    "                  metrics=[r2_keras] # you can add several if needed\n",
    "                 )\n",
    "\n",
    "model.summary()"
   ]
  },
  {
   "cell_type": "code",
   "execution_count": 26,
   "metadata": {},
   "outputs": [
    {
     "name": "stdout",
     "output_type": "stream",
     "text": [
      "Train on 3367 samples, validate on 842 samples\n",
      "Epoch 1/100\n",
      " - 1s - loss: 45.3925 - r2_keras: -2.1358e+01 - val_loss: 10.5088 - val_r2_keras: -2.3861e-01\n",
      "Epoch 2/100\n",
      " - 1s - loss: 10.9983 - r2_keras: -4.2712e-01 - val_loss: 9.5707 - val_r2_keras: -9.5378e-02\n",
      "Epoch 3/100\n",
      " - 1s - loss: 8.6172 - r2_keras: 0.0456 - val_loss: 7.7378 - val_r2_keras: 0.2088\n",
      "Epoch 4/100\n",
      " - 1s - loss: 7.1486 - r2_keras: 0.2742 - val_loss: 6.8187 - val_r2_keras: 0.3432\n",
      "Epoch 5/100\n",
      " - 1s - loss: 6.5291 - r2_keras: 0.3614 - val_loss: 5.9084 - val_r2_keras: 0.4084\n",
      "Epoch 6/100\n",
      " - 1s - loss: 5.9365 - r2_keras: 0.4364 - val_loss: 5.6515 - val_r2_keras: 0.3798\n",
      "Epoch 7/100\n",
      " - 1s - loss: 5.7099 - r2_keras: 0.4570 - val_loss: 5.4296 - val_r2_keras: 0.4292\n",
      "Epoch 8/100\n",
      " - 1s - loss: 5.5947 - r2_keras: 0.4699 - val_loss: 5.8247 - val_r2_keras: 0.4566\n",
      "Epoch 9/100\n",
      " - 1s - loss: 5.4512 - r2_keras: 0.4807 - val_loss: 5.2741 - val_r2_keras: 0.4517\n",
      "Epoch 10/100\n",
      " - 1s - loss: 5.4303 - r2_keras: 0.4709 - val_loss: 5.3639 - val_r2_keras: 0.4688\n",
      "Epoch 11/100\n",
      " - 1s - loss: 5.6991 - r2_keras: 0.4519 - val_loss: 5.2591 - val_r2_keras: 0.4698\n",
      "Epoch 12/100\n",
      " - 1s - loss: 5.6826 - r2_keras: 0.4435 - val_loss: 5.0885 - val_r2_keras: 0.4550\n",
      "Epoch 13/100\n",
      " - 1s - loss: 5.2196 - r2_keras: 0.4955 - val_loss: 5.1599 - val_r2_keras: 0.4716\n",
      "Epoch 14/100\n",
      " - 1s - loss: 5.2542 - r2_keras: 0.5087 - val_loss: 5.0417 - val_r2_keras: 0.4564\n",
      "Epoch 15/100\n",
      " - 1s - loss: 5.2589 - r2_keras: 0.5099 - val_loss: 4.9908 - val_r2_keras: 0.4654\n",
      "Epoch 16/100\n",
      " - 1s - loss: 5.6015 - r2_keras: 0.4707 - val_loss: 5.0011 - val_r2_keras: 0.4449\n",
      "Epoch 17/100\n",
      " - 1s - loss: 5.2061 - r2_keras: 0.4996 - val_loss: 5.3614 - val_r2_keras: 0.4902\n",
      "Epoch 18/100\n",
      " - 1s - loss: 5.2049 - r2_keras: 0.5146 - val_loss: 4.9494 - val_r2_keras: 0.4609\n",
      "Epoch 19/100\n",
      " - 1s - loss: 5.1666 - r2_keras: 0.5194 - val_loss: 5.1847 - val_r2_keras: 0.4934\n",
      "Epoch 20/100\n",
      " - 2s - loss: 5.2498 - r2_keras: 0.5039 - val_loss: 4.8642 - val_r2_keras: 0.4735\n",
      "Epoch 21/100\n",
      " - 1s - loss: 5.2235 - r2_keras: 0.5057 - val_loss: 4.8961 - val_r2_keras: 0.4782\n",
      "Epoch 22/100\n",
      " - 1s - loss: 5.1457 - r2_keras: 0.5064 - val_loss: 5.6176 - val_r2_keras: 0.3382\n",
      "Epoch 23/100\n",
      " - 1s - loss: 5.6461 - r2_keras: 0.4659 - val_loss: 5.3908 - val_r2_keras: 0.4975\n",
      "Epoch 24/100\n",
      " - 1s - loss: 5.2015 - r2_keras: 0.5052 - val_loss: 4.8362 - val_r2_keras: 0.4623\n",
      "Epoch 25/100\n",
      " - 1s - loss: 5.1150 - r2_keras: 0.5178 - val_loss: 4.8249 - val_r2_keras: 0.4867\n",
      "Epoch 26/100\n",
      " - 1s - loss: 5.0975 - r2_keras: 0.5089 - val_loss: 5.0186 - val_r2_keras: 0.4994\n",
      "Epoch 27/100\n",
      " - 1s - loss: 5.0162 - r2_keras: 0.5144 - val_loss: 5.0048 - val_r2_keras: 0.5017\n",
      "Epoch 28/100\n",
      " - 1s - loss: 5.0268 - r2_keras: 0.5249 - val_loss: 4.7678 - val_r2_keras: 0.4813\n",
      "Epoch 29/100\n",
      " - 1s - loss: 5.2292 - r2_keras: 0.5106 - val_loss: 5.3835 - val_r2_keras: 0.3659\n",
      "Epoch 30/100\n",
      " - 1s - loss: 5.3123 - r2_keras: 0.4934 - val_loss: 5.6283 - val_r2_keras: 0.4994\n",
      "Epoch 31/100\n",
      " - 1s - loss: 5.1711 - r2_keras: 0.5012 - val_loss: 4.7123 - val_r2_keras: 0.4726\n",
      "Epoch 32/100\n",
      " - 1s - loss: 4.9866 - r2_keras: 0.5265 - val_loss: 4.7259 - val_r2_keras: 0.4790\n",
      "Epoch 33/100\n",
      " - 1s - loss: 5.0267 - r2_keras: 0.5198 - val_loss: 5.3189 - val_r2_keras: 0.5058\n",
      "Epoch 34/100\n",
      " - 1s - loss: 4.9253 - r2_keras: 0.5400 - val_loss: 4.8796 - val_r2_keras: 0.4296\n",
      "Epoch 35/100\n",
      " - 1s - loss: 4.9705 - r2_keras: 0.5273 - val_loss: 5.4314 - val_r2_keras: 0.5042\n",
      "Epoch 36/100\n",
      " - 1s - loss: 5.1778 - r2_keras: 0.5092 - val_loss: 4.9679 - val_r2_keras: 0.5086\n",
      "Epoch 37/100\n",
      " - 1s - loss: 5.0587 - r2_keras: 0.5221 - val_loss: 5.6382 - val_r2_keras: 0.5010\n",
      "Epoch 38/100\n",
      " - 1s - loss: 4.9674 - r2_keras: 0.5290 - val_loss: 4.8653 - val_r2_keras: 0.5069\n",
      "Epoch 39/100\n",
      " - 1s - loss: 4.8825 - r2_keras: 0.5312 - val_loss: 4.7091 - val_r2_keras: 0.4637\n",
      "Epoch 40/100\n",
      " - 1s - loss: 4.9654 - r2_keras: 0.5337 - val_loss: 4.7197 - val_r2_keras: 0.4656\n",
      "Epoch 41/100\n",
      " - 1s - loss: 4.8545 - r2_keras: 0.5336 - val_loss: 4.9466 - val_r2_keras: 0.5092\n",
      "Epoch 42/100\n",
      " - 1s - loss: 5.1839 - r2_keras: 0.5048 - val_loss: 5.2774 - val_r2_keras: 0.5109\n",
      "Epoch 43/100\n",
      " - 1s - loss: 5.2017 - r2_keras: 0.5149 - val_loss: 4.7619 - val_r2_keras: 0.4500\n",
      "Epoch 44/100\n",
      " - 1s - loss: 4.9652 - r2_keras: 0.5286 - val_loss: 6.0256 - val_r2_keras: 0.4854\n",
      "Epoch 45/100\n",
      " - 1s - loss: 5.4186 - r2_keras: 0.5071 - val_loss: 5.1386 - val_r2_keras: 0.3965\n",
      "Epoch 46/100\n",
      " - 1s - loss: 5.1951 - r2_keras: 0.5136 - val_loss: 4.7328 - val_r2_keras: 0.4726\n",
      "Epoch 47/100\n",
      " - 1s - loss: 5.2843 - r2_keras: 0.5020 - val_loss: 4.8287 - val_r2_keras: 0.4412\n",
      "Epoch 48/100\n",
      " - 1s - loss: 5.0779 - r2_keras: 0.5307 - val_loss: 4.8113 - val_r2_keras: 0.4412\n",
      "Epoch 49/100\n",
      " - 1s - loss: 4.9791 - r2_keras: 0.5269 - val_loss: 4.7434 - val_r2_keras: 0.4560\n",
      "Epoch 50/100\n",
      " - 1s - loss: 4.9000 - r2_keras: 0.5371 - val_loss: 4.7208 - val_r2_keras: 0.4947\n",
      "Epoch 51/100\n",
      " - 1s - loss: 5.0193 - r2_keras: 0.5270 - val_loss: 4.7136 - val_r2_keras: 0.4840\n",
      "Epoch 52/100\n",
      " - 1s - loss: 4.8809 - r2_keras: 0.5343 - val_loss: 5.3043 - val_r2_keras: 0.5095\n",
      "Epoch 53/100\n",
      " - 1s - loss: 5.0246 - r2_keras: 0.5281 - val_loss: 4.8178 - val_r2_keras: 0.4424\n",
      "Epoch 54/100\n",
      " - 1s - loss: 4.8661 - r2_keras: 0.5396 - val_loss: 4.9699 - val_r2_keras: 0.4171\n",
      "Epoch 55/100\n",
      " - 1s - loss: 4.9710 - r2_keras: 0.5314 - val_loss: 4.8030 - val_r2_keras: 0.4454\n",
      "Epoch 56/100\n",
      " - 1s - loss: 4.9217 - r2_keras: 0.5358 - val_loss: 4.7065 - val_r2_keras: 0.4902\n",
      "Epoch 57/100\n",
      " - 1s - loss: 4.7981 - r2_keras: 0.5434 - val_loss: 4.7280 - val_r2_keras: 0.4844\n",
      "Epoch 58/100\n",
      " - 1s - loss: 4.8446 - r2_keras: 0.5423 - val_loss: 4.7253 - val_r2_keras: 0.4676\n",
      "Epoch 59/100\n",
      " - 1s - loss: 4.9080 - r2_keras: 0.5356 - val_loss: 4.8274 - val_r2_keras: 0.5004\n",
      "Epoch 60/100\n",
      " - 1s - loss: 4.8545 - r2_keras: 0.5342 - val_loss: 5.0429 - val_r2_keras: 0.4080\n",
      "Epoch 61/100\n",
      " - 1s - loss: 4.8975 - r2_keras: 0.5417 - val_loss: 4.8656 - val_r2_keras: 0.4364\n",
      "Epoch 62/100\n",
      " - 1s - loss: 4.8889 - r2_keras: 0.5288 - val_loss: 5.2613 - val_r2_keras: 0.5125\n",
      "Epoch 63/100\n",
      " - 1s - loss: 4.9371 - r2_keras: 0.5376 - val_loss: 4.7284 - val_r2_keras: 0.4783\n",
      "Epoch 64/100\n",
      " - 1s - loss: 4.8675 - r2_keras: 0.5403 - val_loss: 4.7612 - val_r2_keras: 0.4936\n",
      "Epoch 65/100\n",
      " - 1s - loss: 4.8751 - r2_keras: 0.5523 - val_loss: 4.7433 - val_r2_keras: 0.4991\n",
      "Epoch 66/100\n",
      " - 1s - loss: 4.8821 - r2_keras: 0.5417 - val_loss: 5.2512 - val_r2_keras: 0.5116\n",
      "Epoch 67/100\n",
      " - 1s - loss: 4.8399 - r2_keras: 0.5428 - val_loss: 4.8596 - val_r2_keras: 0.5053\n",
      "Epoch 68/100\n",
      " - 1s - loss: 5.1057 - r2_keras: 0.5178 - val_loss: 6.1627 - val_r2_keras: 0.4813\n",
      "Epoch 69/100\n",
      " - 1s - loss: 5.2128 - r2_keras: 0.5228 - val_loss: 4.7087 - val_r2_keras: 0.4753\n",
      "Epoch 70/100\n",
      " - 1s - loss: 4.7411 - r2_keras: 0.5537 - val_loss: 4.9614 - val_r2_keras: 0.5109\n",
      "Epoch 71/100\n",
      " - 1s - loss: 4.9250 - r2_keras: 0.5332 - val_loss: 4.9531 - val_r2_keras: 0.5080\n",
      "Epoch 72/100\n",
      " - 1s - loss: 4.8464 - r2_keras: 0.5416 - val_loss: 4.7381 - val_r2_keras: 0.4975\n",
      "Epoch 73/100\n",
      " - 1s - loss: 4.8459 - r2_keras: 0.5419 - val_loss: 4.7365 - val_r2_keras: 0.4960\n",
      "Epoch 74/100\n",
      " - 1s - loss: 5.0336 - r2_keras: 0.5206 - val_loss: 4.7853 - val_r2_keras: 0.4505\n",
      "Epoch 75/100\n",
      " - 1s - loss: 5.1142 - r2_keras: 0.5292 - val_loss: 5.4522 - val_r2_keras: 0.3592\n",
      "Epoch 76/100\n",
      " - 1s - loss: 5.0283 - r2_keras: 0.5327 - val_loss: 5.0506 - val_r2_keras: 0.4109\n",
      "Epoch 77/100\n",
      " - 1s - loss: 4.8705 - r2_keras: 0.5396 - val_loss: 5.0556 - val_r2_keras: 0.4059\n",
      "Epoch 78/100\n",
      " - 1s - loss: 4.8216 - r2_keras: 0.5431 - val_loss: 4.7414 - val_r2_keras: 0.4764\n",
      "Epoch 79/100\n",
      " - 1s - loss: 4.9252 - r2_keras: 0.5475 - val_loss: 5.1576 - val_r2_keras: 0.3936\n",
      "Epoch 80/100\n",
      " - 1s - loss: 4.9407 - r2_keras: 0.5297 - val_loss: 4.9981 - val_r2_keras: 0.5125\n",
      "Epoch 81/100\n",
      " - 1s - loss: 4.9387 - r2_keras: 0.5369 - val_loss: 4.7814 - val_r2_keras: 0.4536\n",
      "Epoch 82/100\n",
      " - 1s - loss: 4.7418 - r2_keras: 0.5514 - val_loss: 5.2389 - val_r2_keras: 0.3849\n",
      "Epoch 83/100\n",
      " - 1s - loss: 4.8686 - r2_keras: 0.5420 - val_loss: 4.7125 - val_r2_keras: 0.4763\n",
      "Epoch 84/100\n",
      " - 1s - loss: 4.8527 - r2_keras: 0.5388 - val_loss: 5.2442 - val_r2_keras: 0.3851\n",
      "Epoch 85/100\n",
      " - 1s - loss: 4.7947 - r2_keras: 0.5450 - val_loss: 4.7169 - val_r2_keras: 0.4764\n",
      "Epoch 86/100\n",
      " - 1s - loss: 4.8639 - r2_keras: 0.5493 - val_loss: 5.1833 - val_r2_keras: 0.3925\n"
     ]
    },
    {
     "name": "stdout",
     "output_type": "stream",
     "text": [
      "Epoch 87/100\n",
      " - 1s - loss: 4.8753 - r2_keras: 0.5380 - val_loss: 4.9764 - val_r2_keras: 0.4179\n",
      "Epoch 88/100\n",
      " - 1s - loss: 4.9652 - r2_keras: 0.5238 - val_loss: 5.0157 - val_r2_keras: 0.4165\n",
      "Epoch 89/100\n",
      " - 1s - loss: 5.0867 - r2_keras: 0.5231 - val_loss: 4.7753 - val_r2_keras: 0.4985\n",
      "Epoch 90/100\n",
      " - 1s - loss: 5.3984 - r2_keras: 0.5004 - val_loss: 5.0605 - val_r2_keras: 0.4074\n",
      "Epoch 91/100\n",
      " - 1s - loss: 5.2598 - r2_keras: 0.5120 - val_loss: 4.9603 - val_r2_keras: 0.5111\n",
      "Epoch 92/100\n",
      " - 1s - loss: 4.8556 - r2_keras: 0.5417 - val_loss: 4.7766 - val_r2_keras: 0.4978\n",
      "Epoch 93/100\n",
      " - 1s - loss: 5.0506 - r2_keras: 0.5244 - val_loss: 4.7940 - val_r2_keras: 0.4497\n",
      "Epoch 94/100\n",
      " - 1s - loss: 4.9935 - r2_keras: 0.5321 - val_loss: 4.9798 - val_r2_keras: 0.5121\n",
      "Epoch 95/100\n",
      " - 1s - loss: 4.7311 - r2_keras: 0.5467 - val_loss: 4.7432 - val_r2_keras: 0.4683\n",
      "Epoch 96/100\n",
      " - 1s - loss: 5.1052 - r2_keras: 0.5258 - val_loss: 4.8196 - val_r2_keras: 0.5067\n",
      "Epoch 97/100\n",
      " - 1s - loss: 4.7922 - r2_keras: 0.5439 - val_loss: 5.0979 - val_r2_keras: 0.5114\n",
      "Epoch 98/100\n",
      " - 1s - loss: 4.7710 - r2_keras: 0.5525 - val_loss: 4.8179 - val_r2_keras: 0.5045\n",
      "Epoch 99/100\n",
      " - 1s - loss: 4.8105 - r2_keras: 0.5504 - val_loss: 4.7550 - val_r2_keras: 0.4970\n",
      "Epoch 100/100\n",
      " - 1s - loss: 4.7516 - r2_keras: 0.5611 - val_loss: 5.0291 - val_r2_keras: 0.5088\n"
     ]
    }
   ],
   "source": [
    "model.fit(X_train, y_train,\n",
    "          batch_size=batch_size,\n",
    "          epochs=epochs,\n",
    "          verbose=2,\n",
    "          validation_data=(X_test, y_test))\n",
    "score = model.evaluate(X_test, y_test, verbose=0)\n"
   ]
  },
  {
   "cell_type": "code",
   "execution_count": 27,
   "metadata": {},
   "outputs": [
    {
     "name": "stdout",
     "output_type": "stream",
     "text": [
      "Test loss: [5.029074071422042, 0.553900420665741]\n"
     ]
    }
   ],
   "source": [
    "print('Test loss:', score)"
   ]
  },
  {
   "cell_type": "code",
   "execution_count": 28,
   "metadata": {},
   "outputs": [
    {
     "data": {
      "text/plain": [
       "<matplotlib.collections.PathCollection at 0x7f94106ed950>"
      ]
     },
     "execution_count": 28,
     "metadata": {},
     "output_type": "execute_result"
    },
    {
     "data": {
      "image/png": "[encoded data removed]",
      "text/plain": [
       "<Figure size 432x288 with 1 Axes>"
      ]
     },
     "metadata": {
      "needs_background": "light"
     },
     "output_type": "display_data"
    }
   ],
   "source": [
    "preds = model.predict(X_test)\n",
    "preds = preds[:,0]\n",
    "plt.scatter(y_test, preds)\n"
   ]
  },
  {
   "cell_type": "code",
   "execution_count": 29,
   "metadata": {},
   "outputs": [
    {
     "data": {
      "text/plain": [
       "<matplotlib.axes._subplots.AxesSubplot at 0x7f941063ed10>"
      ]
     },
     "execution_count": 29,
     "metadata": {},
     "output_type": "execute_result"
    },
    {
     "data": {
      "image/png": "[encoded data removed]",
      "text/plain": [
       "<Figure size 432x288 with 1 Axes>"
      ]
     },
     "metadata": {
      "needs_background": "light"
     },
     "output_type": "display_data"
    }
   ],
   "source": [
    "residuals = y_test - preds\n",
    "sns.distplot(residuals)"
   ]
  },
  {
   "cell_type": "code",
   "execution_count": 30,
   "metadata": {},
   "outputs": [
    {
     "data": {
      "text/plain": [
       "0.45826911604908993"
      ]
     },
     "execution_count": 30,
     "metadata": {},
     "output_type": "execute_result"
    }
   ],
   "source": [
    "from sklearn.metrics import r2_score\n",
    "r2_score(y_test, preds)  "
   ]
  },
  {
   "cell_type": "code",
   "execution_count": null,
   "metadata": {},
   "outputs": [],
   "source": []
  }
 ],
 "metadata": {
  "kernelspec": {
   "display_name": "Python 3",
   "language": "python",
   "name": "python3"
  },
  "language_info": {
   "codemirror_mode": {
    "name": "ipython",
    "version": 3
   },
   "file_extension": ".py",
   "mimetype": "text/x-python",
   "name": "python",
   "nbconvert_exporter": "python",
   "pygments_lexer": "ipython3",
   "version": "3.7.5"
  }
 },
 "nbformat": 4,
 "nbformat_minor": 2
}
