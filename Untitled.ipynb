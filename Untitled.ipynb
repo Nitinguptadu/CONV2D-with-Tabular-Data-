{
 "cells": [
  {
   "cell_type": "code",
   "execution_count": 1,
   "metadata": {},
   "outputs": [],
   "source": [
    "import numpy as np \n",
    "import pandas as pd \n",
    "import seaborn as sns"
   ]
  },
  {
   "cell_type": "code",
   "execution_count": 2,
   "metadata": {},
   "outputs": [
    {
     "data": {
      "text/plain": [
       "array([[ 1,  2,  3,  4,  5,  6,  7,  8,  9, 10, 11, 12],\n",
       "       [ 1,  2,  3,  4,  5,  6,  7,  8,  9, 10, 11, 12]])"
      ]
     },
     "execution_count": 2,
     "metadata": {},
     "output_type": "execute_result"
    }
   ],
   "source": [
    "arr = np.array([[1, 2, 3, 4, 5, 6, 7, 8, 9, 10, 11, 12],[1, 2, 3, 4, 5, 6, 7, 8, 9, 10, 11, 12]])\n",
    "arr"
   ]
  },
  {
   "cell_type": "code",
   "execution_count": 33,
   "metadata": {},
   "outputs": [
    {
     "name": "stdout",
     "output_type": "stream",
     "text": [
      "(2, 1, 4, 3)\n",
      "[[[[ 1  2  3]\n",
      "   [ 4  5  6]\n",
      "   [ 7  8  9]\n",
      "   [10 11 12]]]\n",
      "\n",
      "\n",
      " [[[ 1  2  3]\n",
      "   [ 4  5  6]\n",
      "   [ 7  8  9]\n",
      "   [10 11 12]]]]\n"
     ]
    }
   ],
   "source": [
    "newarr = arr.reshape(2,1,4, 3)\n",
    "print(newarr.shape)\n",
    "print(newarr)"
   ]
  },
  {
   "cell_type": "code",
   "execution_count": 34,
   "metadata": {},
   "outputs": [
    {
     "name": "stdout",
     "output_type": "stream",
     "text": [
      "(2, 2, 3, 2)\n",
      "[[[[ 1  2]\n",
      "   [ 3  4]\n",
      "   [ 5  6]]\n",
      "\n",
      "  [[ 7  8]\n",
      "   [ 9 10]\n",
      "   [11 12]]]\n",
      "\n",
      "\n",
      " [[[ 1  2]\n",
      "   [ 3  4]\n",
      "   [ 5  6]]\n",
      "\n",
      "  [[ 7  8]\n",
      "   [ 9 10]\n",
      "   [11 12]]]]\n"
     ]
    }
   ],
   "source": [
    "newarr = arr.reshape(2,2,3, 2)\n",
    "print(newarr.shape)\n",
    "print(newarr)"
   ]
  },
  {
   "cell_type": "code",
   "execution_count": 4,
   "metadata": {},
   "outputs": [
    {
     "data": {
      "text/plain": [
       "array([[ 1,  2,  3,  4,  5,  6,  7,  8,  9, 10, 11, 12],\n",
       "       [ 1,  2,  3,  4,  5,  6,  7,  8,  9, 10, 11, 12]])"
      ]
     },
     "execution_count": 4,
     "metadata": {},
     "output_type": "execute_result"
    }
   ],
   "source": [
    "arr = np.array([[1, 2, 3, 4, 5, 6, 7, 8, 9, 10, 11, 12],[1, 2, 3, 4, 5, 6, 7, 8, 9, 10, 11, 12]])\n",
    "arr"
   ]
  },
  {
   "cell_type": "code",
   "execution_count": 5,
   "metadata": {},
   "outputs": [
    {
     "name": "stdout",
     "output_type": "stream",
     "text": [
      "(2, 4, 3, 1)\n",
      "[[[[ 1]\n",
      "   [ 2]\n",
      "   [ 3]]\n",
      "\n",
      "  [[ 4]\n",
      "   [ 5]\n",
      "   [ 6]]\n",
      "\n",
      "  [[ 7]\n",
      "   [ 8]\n",
      "   [ 9]]\n",
      "\n",
      "  [[10]\n",
      "   [11]\n",
      "   [12]]]\n",
      "\n",
      "\n",
      " [[[ 1]\n",
      "   [ 2]\n",
      "   [ 3]]\n",
      "\n",
      "  [[ 4]\n",
      "   [ 5]\n",
      "   [ 6]]\n",
      "\n",
      "  [[ 7]\n",
      "   [ 8]\n",
      "   [ 9]]\n",
      "\n",
      "  [[10]\n",
      "   [11]\n",
      "   [12]]]]\n"
     ]
    }
   ],
   "source": [
    "newarr = arr.reshape(2,4, 3,1)\n",
    "print(newarr.shape)\n",
    "print(newarr)"
   ]
  },
  {
   "cell_type": "code",
   "execution_count": null,
   "metadata": {},
   "outputs": [],
   "source": []
  },
  {
   "cell_type": "code",
   "execution_count": 6,
   "metadata": {},
   "outputs": [],
   "source": [
    "data = pd.read_csv(\"train.csv\")"
   ]
  },
  {
   "cell_type": "code",
   "execution_count": 7,
   "metadata": {},
   "outputs": [],
   "source": [
    "dtest = pd.read_csv(\"test.csv\")"
   ]
  },
  {
   "cell_type": "code",
   "execution_count": 8,
   "metadata": {},
   "outputs": [
    {
     "data": {
      "text/html": [
       "<div>\n",
       "<style scoped>\n",
       "    .dataframe tbody tr th:only-of-type {\n",
       "        vertical-align: middle;\n",
       "    }\n",
       "\n",
       "    .dataframe tbody tr th {\n",
       "        vertical-align: top;\n",
       "    }\n",
       "\n",
       "    .dataframe thead th {\n",
       "        text-align: right;\n",
       "    }\n",
       "</style>\n",
       "<table border=\"1\" class=\"dataframe\">\n",
       "  <thead>\n",
       "    <tr style=\"text-align: right;\">\n",
       "      <th></th>\n",
       "      <th>ID</th>\n",
       "      <th>y</th>\n",
       "      <th>X0</th>\n",
       "      <th>X1</th>\n",
       "      <th>X2</th>\n",
       "      <th>X3</th>\n",
       "      <th>X4</th>\n",
       "      <th>X5</th>\n",
       "      <th>X6</th>\n",
       "      <th>X8</th>\n",
       "      <th>...</th>\n",
       "      <th>X375</th>\n",
       "      <th>X376</th>\n",
       "      <th>X377</th>\n",
       "      <th>X378</th>\n",
       "      <th>X379</th>\n",
       "      <th>X380</th>\n",
       "      <th>X382</th>\n",
       "      <th>X383</th>\n",
       "      <th>X384</th>\n",
       "      <th>X385</th>\n",
       "    </tr>\n",
       "  </thead>\n",
       "  <tbody>\n",
       "    <tr>\n",
       "      <th>0</th>\n",
       "      <td>0</td>\n",
       "      <td>130.81</td>\n",
       "      <td>k</td>\n",
       "      <td>v</td>\n",
       "      <td>at</td>\n",
       "      <td>a</td>\n",
       "      <td>d</td>\n",
       "      <td>u</td>\n",
       "      <td>j</td>\n",
       "      <td>o</td>\n",
       "      <td>...</td>\n",
       "      <td>0</td>\n",
       "      <td>0</td>\n",
       "      <td>1</td>\n",
       "      <td>0</td>\n",
       "      <td>0</td>\n",
       "      <td>0</td>\n",
       "      <td>0</td>\n",
       "      <td>0</td>\n",
       "      <td>0</td>\n",
       "      <td>0</td>\n",
       "    </tr>\n",
       "    <tr>\n",
       "      <th>1</th>\n",
       "      <td>6</td>\n",
       "      <td>88.53</td>\n",
       "      <td>k</td>\n",
       "      <td>t</td>\n",
       "      <td>av</td>\n",
       "      <td>e</td>\n",
       "      <td>d</td>\n",
       "      <td>y</td>\n",
       "      <td>l</td>\n",
       "      <td>o</td>\n",
       "      <td>...</td>\n",
       "      <td>1</td>\n",
       "      <td>0</td>\n",
       "      <td>0</td>\n",
       "      <td>0</td>\n",
       "      <td>0</td>\n",
       "      <td>0</td>\n",
       "      <td>0</td>\n",
       "      <td>0</td>\n",
       "      <td>0</td>\n",
       "      <td>0</td>\n",
       "    </tr>\n",
       "    <tr>\n",
       "      <th>2</th>\n",
       "      <td>7</td>\n",
       "      <td>76.26</td>\n",
       "      <td>az</td>\n",
       "      <td>w</td>\n",
       "      <td>n</td>\n",
       "      <td>c</td>\n",
       "      <td>d</td>\n",
       "      <td>x</td>\n",
       "      <td>j</td>\n",
       "      <td>x</td>\n",
       "      <td>...</td>\n",
       "      <td>0</td>\n",
       "      <td>0</td>\n",
       "      <td>0</td>\n",
       "      <td>0</td>\n",
       "      <td>0</td>\n",
       "      <td>0</td>\n",
       "      <td>1</td>\n",
       "      <td>0</td>\n",
       "      <td>0</td>\n",
       "      <td>0</td>\n",
       "    </tr>\n",
       "    <tr>\n",
       "      <th>3</th>\n",
       "      <td>9</td>\n",
       "      <td>80.62</td>\n",
       "      <td>az</td>\n",
       "      <td>t</td>\n",
       "      <td>n</td>\n",
       "      <td>f</td>\n",
       "      <td>d</td>\n",
       "      <td>x</td>\n",
       "      <td>l</td>\n",
       "      <td>e</td>\n",
       "      <td>...</td>\n",
       "      <td>0</td>\n",
       "      <td>0</td>\n",
       "      <td>0</td>\n",
       "      <td>0</td>\n",
       "      <td>0</td>\n",
       "      <td>0</td>\n",
       "      <td>0</td>\n",
       "      <td>0</td>\n",
       "      <td>0</td>\n",
       "      <td>0</td>\n",
       "    </tr>\n",
       "    <tr>\n",
       "      <th>4</th>\n",
       "      <td>13</td>\n",
       "      <td>78.02</td>\n",
       "      <td>az</td>\n",
       "      <td>v</td>\n",
       "      <td>n</td>\n",
       "      <td>f</td>\n",
       "      <td>d</td>\n",
       "      <td>h</td>\n",
       "      <td>d</td>\n",
       "      <td>n</td>\n",
       "      <td>...</td>\n",
       "      <td>0</td>\n",
       "      <td>0</td>\n",
       "      <td>0</td>\n",
       "      <td>0</td>\n",
       "      <td>0</td>\n",
       "      <td>0</td>\n",
       "      <td>0</td>\n",
       "      <td>0</td>\n",
       "      <td>0</td>\n",
       "      <td>0</td>\n",
       "    </tr>\n",
       "  </tbody>\n",
       "</table>\n",
       "<p>5 rows × 378 columns</p>\n",
       "</div>"
      ],
      "text/plain": [
       "   ID       y  X0 X1  X2 X3 X4 X5 X6 X8  ...  X375  X376  X377  X378  X379  \\\n",
       "0   0  130.81   k  v  at  a  d  u  j  o  ...     0     0     1     0     0   \n",
       "1   6   88.53   k  t  av  e  d  y  l  o  ...     1     0     0     0     0   \n",
       "2   7   76.26  az  w   n  c  d  x  j  x  ...     0     0     0     0     0   \n",
       "3   9   80.62  az  t   n  f  d  x  l  e  ...     0     0     0     0     0   \n",
       "4  13   78.02  az  v   n  f  d  h  d  n  ...     0     0     0     0     0   \n",
       "\n",
       "   X380  X382  X383  X384  X385  \n",
       "0     0     0     0     0     0  \n",
       "1     0     0     0     0     0  \n",
       "2     0     1     0     0     0  \n",
       "3     0     0     0     0     0  \n",
       "4     0     0     0     0     0  \n",
       "\n",
       "[5 rows x 378 columns]"
      ]
     },
     "execution_count": 8,
     "metadata": {},
     "output_type": "execute_result"
    }
   ],
   "source": [
    "data.head()"
   ]
  },
  {
   "cell_type": "code",
   "execution_count": 9,
   "metadata": {},
   "outputs": [],
   "source": [
    "data =  data.drop([\"ID\",\"X0\",\"X1\",\"X2\",\"X3\",\"X4\",\"X5\",\"X6\",\"X8\" ], axis = 1)"
   ]
  },
  {
   "cell_type": "code",
   "execution_count": 10,
   "metadata": {},
   "outputs": [
    {
     "data": {
      "text/plain": [
       "(4209, 368)"
      ]
     },
     "execution_count": 10,
     "metadata": {},
     "output_type": "execute_result"
    }
   ],
   "source": [
    "X = data.drop(\"y\" , axis =  1)\n",
    "y = data[\"y\"]\n",
    "X.shape"
   ]
  },
  {
   "cell_type": "code",
   "execution_count": 11,
   "metadata": {},
   "outputs": [
    {
     "data": {
      "text/plain": [
       "130.81"
      ]
     },
     "execution_count": 11,
     "metadata": {},
     "output_type": "execute_result"
    }
   ],
   "source": [
    "y[0]"
   ]
  },
  {
   "cell_type": "code",
   "execution_count": 12,
   "metadata": {},
   "outputs": [
    {
     "data": {
      "text/html": [
       "<div>\n",
       "<style scoped>\n",
       "    .dataframe tbody tr th:only-of-type {\n",
       "        vertical-align: middle;\n",
       "    }\n",
       "\n",
       "    .dataframe tbody tr th {\n",
       "        vertical-align: top;\n",
       "    }\n",
       "\n",
       "    .dataframe thead th {\n",
       "        text-align: right;\n",
       "    }\n",
       "</style>\n",
       "<table border=\"1\" class=\"dataframe\">\n",
       "  <thead>\n",
       "    <tr style=\"text-align: right;\">\n",
       "      <th></th>\n",
       "      <th>X10</th>\n",
       "      <th>X11</th>\n",
       "      <th>X12</th>\n",
       "      <th>X13</th>\n",
       "      <th>X14</th>\n",
       "      <th>X15</th>\n",
       "      <th>X16</th>\n",
       "      <th>X17</th>\n",
       "      <th>X18</th>\n",
       "      <th>X19</th>\n",
       "      <th>...</th>\n",
       "      <th>X375</th>\n",
       "      <th>X376</th>\n",
       "      <th>X377</th>\n",
       "      <th>X378</th>\n",
       "      <th>X379</th>\n",
       "      <th>X380</th>\n",
       "      <th>X382</th>\n",
       "      <th>X383</th>\n",
       "      <th>X384</th>\n",
       "      <th>X385</th>\n",
       "    </tr>\n",
       "  </thead>\n",
       "  <tbody>\n",
       "    <tr>\n",
       "      <th>0</th>\n",
       "      <td>0</td>\n",
       "      <td>0</td>\n",
       "      <td>0</td>\n",
       "      <td>1</td>\n",
       "      <td>0</td>\n",
       "      <td>0</td>\n",
       "      <td>0</td>\n",
       "      <td>0</td>\n",
       "      <td>1</td>\n",
       "      <td>0</td>\n",
       "      <td>...</td>\n",
       "      <td>0</td>\n",
       "      <td>0</td>\n",
       "      <td>1</td>\n",
       "      <td>0</td>\n",
       "      <td>0</td>\n",
       "      <td>0</td>\n",
       "      <td>0</td>\n",
       "      <td>0</td>\n",
       "      <td>0</td>\n",
       "      <td>0</td>\n",
       "    </tr>\n",
       "    <tr>\n",
       "      <th>1</th>\n",
       "      <td>0</td>\n",
       "      <td>0</td>\n",
       "      <td>0</td>\n",
       "      <td>0</td>\n",
       "      <td>0</td>\n",
       "      <td>0</td>\n",
       "      <td>0</td>\n",
       "      <td>0</td>\n",
       "      <td>1</td>\n",
       "      <td>0</td>\n",
       "      <td>...</td>\n",
       "      <td>1</td>\n",
       "      <td>0</td>\n",
       "      <td>0</td>\n",
       "      <td>0</td>\n",
       "      <td>0</td>\n",
       "      <td>0</td>\n",
       "      <td>0</td>\n",
       "      <td>0</td>\n",
       "      <td>0</td>\n",
       "      <td>0</td>\n",
       "    </tr>\n",
       "    <tr>\n",
       "      <th>2</th>\n",
       "      <td>0</td>\n",
       "      <td>0</td>\n",
       "      <td>0</td>\n",
       "      <td>0</td>\n",
       "      <td>0</td>\n",
       "      <td>0</td>\n",
       "      <td>0</td>\n",
       "      <td>1</td>\n",
       "      <td>0</td>\n",
       "      <td>0</td>\n",
       "      <td>...</td>\n",
       "      <td>0</td>\n",
       "      <td>0</td>\n",
       "      <td>0</td>\n",
       "      <td>0</td>\n",
       "      <td>0</td>\n",
       "      <td>0</td>\n",
       "      <td>1</td>\n",
       "      <td>0</td>\n",
       "      <td>0</td>\n",
       "      <td>0</td>\n",
       "    </tr>\n",
       "    <tr>\n",
       "      <th>3</th>\n",
       "      <td>0</td>\n",
       "      <td>0</td>\n",
       "      <td>0</td>\n",
       "      <td>0</td>\n",
       "      <td>0</td>\n",
       "      <td>0</td>\n",
       "      <td>0</td>\n",
       "      <td>0</td>\n",
       "      <td>0</td>\n",
       "      <td>0</td>\n",
       "      <td>...</td>\n",
       "      <td>0</td>\n",
       "      <td>0</td>\n",
       "      <td>0</td>\n",
       "      <td>0</td>\n",
       "      <td>0</td>\n",
       "      <td>0</td>\n",
       "      <td>0</td>\n",
       "      <td>0</td>\n",
       "      <td>0</td>\n",
       "      <td>0</td>\n",
       "    </tr>\n",
       "    <tr>\n",
       "      <th>4</th>\n",
       "      <td>0</td>\n",
       "      <td>0</td>\n",
       "      <td>0</td>\n",
       "      <td>0</td>\n",
       "      <td>0</td>\n",
       "      <td>0</td>\n",
       "      <td>0</td>\n",
       "      <td>0</td>\n",
       "      <td>0</td>\n",
       "      <td>0</td>\n",
       "      <td>...</td>\n",
       "      <td>0</td>\n",
       "      <td>0</td>\n",
       "      <td>0</td>\n",
       "      <td>0</td>\n",
       "      <td>0</td>\n",
       "      <td>0</td>\n",
       "      <td>0</td>\n",
       "      <td>0</td>\n",
       "      <td>0</td>\n",
       "      <td>0</td>\n",
       "    </tr>\n",
       "    <tr>\n",
       "      <th>...</th>\n",
       "      <td>...</td>\n",
       "      <td>...</td>\n",
       "      <td>...</td>\n",
       "      <td>...</td>\n",
       "      <td>...</td>\n",
       "      <td>...</td>\n",
       "      <td>...</td>\n",
       "      <td>...</td>\n",
       "      <td>...</td>\n",
       "      <td>...</td>\n",
       "      <td>...</td>\n",
       "      <td>...</td>\n",
       "      <td>...</td>\n",
       "      <td>...</td>\n",
       "      <td>...</td>\n",
       "      <td>...</td>\n",
       "      <td>...</td>\n",
       "      <td>...</td>\n",
       "      <td>...</td>\n",
       "      <td>...</td>\n",
       "      <td>...</td>\n",
       "    </tr>\n",
       "    <tr>\n",
       "      <th>4204</th>\n",
       "      <td>0</td>\n",
       "      <td>0</td>\n",
       "      <td>0</td>\n",
       "      <td>0</td>\n",
       "      <td>1</td>\n",
       "      <td>0</td>\n",
       "      <td>0</td>\n",
       "      <td>0</td>\n",
       "      <td>0</td>\n",
       "      <td>0</td>\n",
       "      <td>...</td>\n",
       "      <td>1</td>\n",
       "      <td>0</td>\n",
       "      <td>0</td>\n",
       "      <td>0</td>\n",
       "      <td>0</td>\n",
       "      <td>0</td>\n",
       "      <td>0</td>\n",
       "      <td>0</td>\n",
       "      <td>0</td>\n",
       "      <td>0</td>\n",
       "    </tr>\n",
       "    <tr>\n",
       "      <th>4205</th>\n",
       "      <td>0</td>\n",
       "      <td>0</td>\n",
       "      <td>0</td>\n",
       "      <td>0</td>\n",
       "      <td>0</td>\n",
       "      <td>0</td>\n",
       "      <td>0</td>\n",
       "      <td>0</td>\n",
       "      <td>0</td>\n",
       "      <td>0</td>\n",
       "      <td>...</td>\n",
       "      <td>0</td>\n",
       "      <td>1</td>\n",
       "      <td>0</td>\n",
       "      <td>0</td>\n",
       "      <td>0</td>\n",
       "      <td>0</td>\n",
       "      <td>0</td>\n",
       "      <td>0</td>\n",
       "      <td>0</td>\n",
       "      <td>0</td>\n",
       "    </tr>\n",
       "    <tr>\n",
       "      <th>4206</th>\n",
       "      <td>0</td>\n",
       "      <td>0</td>\n",
       "      <td>1</td>\n",
       "      <td>1</td>\n",
       "      <td>0</td>\n",
       "      <td>0</td>\n",
       "      <td>0</td>\n",
       "      <td>0</td>\n",
       "      <td>0</td>\n",
       "      <td>0</td>\n",
       "      <td>...</td>\n",
       "      <td>0</td>\n",
       "      <td>0</td>\n",
       "      <td>1</td>\n",
       "      <td>0</td>\n",
       "      <td>0</td>\n",
       "      <td>0</td>\n",
       "      <td>0</td>\n",
       "      <td>0</td>\n",
       "      <td>0</td>\n",
       "      <td>0</td>\n",
       "    </tr>\n",
       "    <tr>\n",
       "      <th>4207</th>\n",
       "      <td>0</td>\n",
       "      <td>0</td>\n",
       "      <td>0</td>\n",
       "      <td>0</td>\n",
       "      <td>1</td>\n",
       "      <td>0</td>\n",
       "      <td>0</td>\n",
       "      <td>0</td>\n",
       "      <td>0</td>\n",
       "      <td>0</td>\n",
       "      <td>...</td>\n",
       "      <td>0</td>\n",
       "      <td>0</td>\n",
       "      <td>0</td>\n",
       "      <td>0</td>\n",
       "      <td>0</td>\n",
       "      <td>0</td>\n",
       "      <td>0</td>\n",
       "      <td>0</td>\n",
       "      <td>0</td>\n",
       "      <td>0</td>\n",
       "    </tr>\n",
       "    <tr>\n",
       "      <th>4208</th>\n",
       "      <td>0</td>\n",
       "      <td>0</td>\n",
       "      <td>0</td>\n",
       "      <td>0</td>\n",
       "      <td>0</td>\n",
       "      <td>0</td>\n",
       "      <td>0</td>\n",
       "      <td>0</td>\n",
       "      <td>0</td>\n",
       "      <td>0</td>\n",
       "      <td>...</td>\n",
       "      <td>1</td>\n",
       "      <td>0</td>\n",
       "      <td>0</td>\n",
       "      <td>0</td>\n",
       "      <td>0</td>\n",
       "      <td>0</td>\n",
       "      <td>0</td>\n",
       "      <td>0</td>\n",
       "      <td>0</td>\n",
       "      <td>0</td>\n",
       "    </tr>\n",
       "  </tbody>\n",
       "</table>\n",
       "<p>4209 rows × 368 columns</p>\n",
       "</div>"
      ],
      "text/plain": [
       "      X10  X11  X12  X13  X14  X15  X16  X17  X18  X19  ...  X375  X376  X377  \\\n",
       "0       0    0    0    1    0    0    0    0    1    0  ...     0     0     1   \n",
       "1       0    0    0    0    0    0    0    0    1    0  ...     1     0     0   \n",
       "2       0    0    0    0    0    0    0    1    0    0  ...     0     0     0   \n",
       "3       0    0    0    0    0    0    0    0    0    0  ...     0     0     0   \n",
       "4       0    0    0    0    0    0    0    0    0    0  ...     0     0     0   \n",
       "...   ...  ...  ...  ...  ...  ...  ...  ...  ...  ...  ...   ...   ...   ...   \n",
       "4204    0    0    0    0    1    0    0    0    0    0  ...     1     0     0   \n",
       "4205    0    0    0    0    0    0    0    0    0    0  ...     0     1     0   \n",
       "4206    0    0    1    1    0    0    0    0    0    0  ...     0     0     1   \n",
       "4207    0    0    0    0    1    0    0    0    0    0  ...     0     0     0   \n",
       "4208    0    0    0    0    0    0    0    0    0    0  ...     1     0     0   \n",
       "\n",
       "      X378  X379  X380  X382  X383  X384  X385  \n",
       "0        0     0     0     0     0     0     0  \n",
       "1        0     0     0     0     0     0     0  \n",
       "2        0     0     0     1     0     0     0  \n",
       "3        0     0     0     0     0     0     0  \n",
       "4        0     0     0     0     0     0     0  \n",
       "...    ...   ...   ...   ...   ...   ...   ...  \n",
       "4204     0     0     0     0     0     0     0  \n",
       "4205     0     0     0     0     0     0     0  \n",
       "4206     0     0     0     0     0     0     0  \n",
       "4207     0     0     0     0     0     0     0  \n",
       "4208     0     0     0     0     0     0     0  \n",
       "\n",
       "[4209 rows x 368 columns]"
      ]
     },
     "execution_count": 12,
     "metadata": {},
     "output_type": "execute_result"
    }
   ],
   "source": [
    "X"
   ]
  },
  {
   "cell_type": "code",
   "execution_count": 13,
   "metadata": {},
   "outputs": [],
   "source": [
    "X= X.values\n",
    "y = y.values"
   ]
  },
  {
   "cell_type": "code",
   "execution_count": 14,
   "metadata": {},
   "outputs": [],
   "source": [
    "from sklearn.model_selection import train_test_split\n",
    "X_train, X_test, y_train, y_test = train_test_split(X,y, random_state=0, test_size = 0.2 )"
   ]
  },
  {
   "cell_type": "code",
   "execution_count": 15,
   "metadata": {},
   "outputs": [
    {
     "name": "stderr",
     "output_type": "stream",
     "text": [
      "Using TensorFlow backend.\n"
     ]
    }
   ],
   "source": [
    "import keras\n",
    "from keras.models import Sequential\n",
    "from keras.layers import Dense, Dropout, Activation, Flatten\n",
    "from keras.layers import Conv2D, MaxPooling2D\n",
    "\n",
    "from keras import backend as K"
   ]
  },
  {
   "cell_type": "code",
   "execution_count": 16,
   "metadata": {},
   "outputs": [],
   "source": [
    "batch_size = 150\n",
    "epochs =100\n",
    "# input image dimensions\n",
    "img_rows, img_cols = 23, 16\n",
    "#inputshape = X.shape[1]"
   ]
  },
  {
   "cell_type": "code",
   "execution_count": 17,
   "metadata": {},
   "outputs": [
    {
     "data": {
      "text/plain": [
       "(3367, 368)"
      ]
     },
     "execution_count": 17,
     "metadata": {},
     "output_type": "execute_result"
    }
   ],
   "source": [
    "X_train.shape"
   ]
  },
  {
   "cell_type": "code",
   "execution_count": 18,
   "metadata": {},
   "outputs": [
    {
     "data": {
      "text/plain": [
       "3367"
      ]
     },
     "execution_count": 18,
     "metadata": {},
     "output_type": "execute_result"
    }
   ],
   "source": [
    "X_train.shape[0]"
   ]
  },
  {
   "cell_type": "code",
   "execution_count": 23,
   "metadata": {},
   "outputs": [
    {
     "name": "stdout",
     "output_type": "stream",
     "text": [
      "x_train shape: (3367, 23, 16, 1)\n",
      "3367 train samples\n",
      "842 test samples\n"
     ]
    }
   ],
   "source": [
    "if K.image_data_format() == 'channels_first':\n",
    "    X_train = X_train.reshape(X_train.shape[0], 1, img_rows, img_cols)\n",
    "    X_test = X_test.reshape(X_test.shape[0], 1, img_rows, img_cols)\n",
    "    input_shape = (1, img_rows, img_cols)\n",
    "else:\n",
    "    X_train = X_train.reshape(X_train.shape[0], img_rows, img_cols, 1)\n",
    "    X_test = X_test.reshape(X_test.shape[0], img_rows, img_cols, 1)\n",
    "    input_shape = (img_rows, img_cols, 1)\n",
    "\n",
    "X_train = X_train.astype('float32')\n",
    "X_test = X_test.astype('float32')\n",
    "\n",
    "print('x_train shape:', X_train.shape)\n",
    "print(X_train.shape[0], 'train samples')\n",
    "print(X_test.shape[0], 'test samples')"
   ]
  },
  {
   "cell_type": "code",
   "execution_count": 20,
   "metadata": {},
   "outputs": [
    {
     "name": "stdout",
     "output_type": "stream",
     "text": [
      "x_train shape: (3367, 1, 23, 16)\n",
      "3367 train samples\n",
      "842 test samples\n"
     ]
    }
   ],
   "source": [
    "# X_train = X_train.reshape(X_train.shape[0], 1, img_rows, img_cols)\n",
    "# X_test = X_test.reshape(X_test.shape[0], 1, img_rows, img_cols)\n",
    "# print('x_train shape:', X_train.shape)\n",
    "# print(X_train.shape[0], 'train samples')\n",
    "# print(X_test.shape[0], 'test samples')"
   ]
  },
  {
   "cell_type": "code",
   "execution_count": 21,
   "metadata": {},
   "outputs": [
    {
     "name": "stdout",
     "output_type": "stream",
     "text": [
      "x_train shape: (3367, 23, 16, 1)\n",
      "3367 train samples\n",
      "842 test samples\n"
     ]
    }
   ],
   "source": [
    "# X_train = X_train.reshape(X_train.shape[0], img_rows, img_cols, 1)\n",
    "# X_test = X_test.reshape(X_test.shape[0], img_rows, img_cols, 1)\n",
    "# input_shape = (img_rows, img_cols, 1)\n",
    "# print('x_train shape:', X_train.shape)\n",
    "# print(X_train.shape[0], 'train samples')\n",
    "# print(X_test.shape[0], 'test samples')"
   ]
  },
  {
   "cell_type": "code",
   "execution_count": 24,
   "metadata": {},
   "outputs": [],
   "source": [
    "def r2_keras(y_true, y_pred):\n",
    "    SS_res =  K.sum(K.square( y_true - y_pred )) \n",
    "    SS_tot = K.sum(K.square( y_true - K.mean(y_true) ) ) \n",
    "    return ( 1 - SS_res/(SS_tot + K.epsilon()) )"
   ]
  },
  {
   "cell_type": "code",
   "execution_count": 25,
   "metadata": {},
   "outputs": [
    {
     "data": {
      "text/plain": [
       "<matplotlib.image.AxesImage at 0x7f2b6183dc90>"
      ]
     },
     "execution_count": 25,
     "metadata": {},
     "output_type": "execute_result"
    },
    {
     "data": {
      "image/png": "[encoded data removed]",
      "text/plain": [
       "<Figure size 432x288 with 1 Axes>"
      ]
     },
     "metadata": {
      "needs_background": "light"
     },
     "output_type": "display_data"
    }
   ],
   "source": [
    "import matplotlib.pyplot as plt\n",
    "\n",
    "plt.imshow(X_train[0].reshape(23,16))"
   ]
  },
  {
   "cell_type": "code",
   "execution_count": 26,
   "metadata": {},
   "outputs": [
    {
     "name": "stdout",
     "output_type": "stream",
     "text": [
      "Model: \"sequential_1\"\n",
      "_________________________________________________________________\n",
      "Layer (type)                 Output Shape              Param #   \n",
      "=================================================================\n",
      "conv2d_1 (Conv2D)            (None, 21, 14, 64)        640       \n",
      "_________________________________________________________________\n",
      "max_pooling2d_1 (MaxPooling2 (None, 10, 7, 64)         0         \n",
      "_________________________________________________________________\n",
      "flatten_1 (Flatten)          (None, 4480)              0         \n",
      "_________________________________________________________________\n",
      "dense_1 (Dense)              (None, 512)               2294272   \n",
      "_________________________________________________________________\n",
      "dropout_1 (Dropout)          (None, 512)               0         \n",
      "_________________________________________________________________\n",
      "dense_2 (Dense)              (None, 256)               131328    \n",
      "_________________________________________________________________\n",
      "dense_3 (Dense)              (None, 128)               32896     \n",
      "_________________________________________________________________\n",
      "dense_4 (Dense)              (None, 1)                 129       \n",
      "=================================================================\n",
      "Total params: 2,459,265\n",
      "Trainable params: 2,459,265\n",
      "Non-trainable params: 0\n",
      "_________________________________________________________________\n"
     ]
    }
   ],
   "source": [
    "from keras.layers.normalization import BatchNormalization\n",
    "\n",
    "model = Sequential()\n",
    "#model.add(Dense(256, activation='relu', input_dim=366))\n",
    "model.add(Conv2D(64, (3, 3), activation='relu', input_shape = input_shape))\n",
    "#model.add(Conv2D(128, (3, 3), activation='relu'))\n",
    "#model.add(Conv2D(64, (3, 3), init='uniform'))\n",
    "\n",
    "model.add(MaxPooling2D(pool_size=(2, 2)))\n",
    "\n",
    "model.add(Flatten())\n",
    "\n",
    "model.add(Dense(512, activation='relu'))\n",
    "model.add(Dropout(0.1))\n",
    "\n",
    "model.add(Dense(256, activation='relu'))\n",
    "model.add(Dense(128, activation='relu'))\n",
    "\n",
    "model.add(Dense(1, activation='linear'))\n",
    "\n",
    "\n",
    "model.compile(loss='mean_squared_error', # one may use 'mean_absolute_error' as  mean_squared_error\n",
    "                  optimizer='adam',\n",
    "                  metrics=[r2_keras] # you can add several if needed\n",
    "                 )\n",
    "\n",
    "model.summary()"
   ]
  },
  {
   "cell_type": "code",
   "execution_count": 27,
   "metadata": {},
   "outputs": [
    {
     "name": "stdout",
     "output_type": "stream",
     "text": [
      "Train on 3367 samples, validate on 842 samples\n",
      "Epoch 1/100\n",
      " - 1s - loss: 3087.8085 - r2_keras: -1.8735e+01 - val_loss: 683.7699 - val_r2_keras: -2.9279e+00\n",
      "Epoch 2/100\n",
      " - 1s - loss: 281.3247 - r2_keras: -8.1660e-01 - val_loss: 207.8152 - val_r2_keras: -1.1543e-01\n",
      "Epoch 3/100\n",
      " - 1s - loss: 170.7487 - r2_keras: -1.1401e-01 - val_loss: 183.8387 - val_r2_keras: 0.0266\n",
      "Epoch 4/100\n",
      " - 1s - loss: 140.7217 - r2_keras: 0.0836 - val_loss: 165.0573 - val_r2_keras: 0.1377\n",
      "Epoch 5/100\n",
      " - 1s - loss: 124.9460 - r2_keras: 0.1867 - val_loss: 151.2647 - val_r2_keras: 0.2186\n",
      "Epoch 6/100\n",
      " - 1s - loss: 110.6959 - r2_keras: 0.2848 - val_loss: 137.5973 - val_r2_keras: 0.2973\n",
      "Epoch 7/100\n",
      " - 1s - loss: 101.4765 - r2_keras: 0.3375 - val_loss: 128.1847 - val_r2_keras: 0.3507\n",
      "Epoch 8/100\n",
      " - 1s - loss: 91.8040 - r2_keras: 0.4100 - val_loss: 120.2298 - val_r2_keras: 0.3975\n",
      "Epoch 9/100\n",
      " - 1s - loss: 84.5875 - r2_keras: 0.4538 - val_loss: 114.7082 - val_r2_keras: 0.4285\n",
      "Epoch 10/100\n",
      " - 1s - loss: 80.6369 - r2_keras: 0.4798 - val_loss: 111.8696 - val_r2_keras: 0.4442\n",
      "Epoch 11/100\n",
      " - 1s - loss: 81.3565 - r2_keras: 0.4736 - val_loss: 112.7839 - val_r2_keras: 0.4386\n",
      "Epoch 12/100\n",
      " - 1s - loss: 78.2893 - r2_keras: 0.4966 - val_loss: 110.5131 - val_r2_keras: 0.4513\n",
      "Epoch 13/100\n",
      " - 1s - loss: 79.1894 - r2_keras: 0.4897 - val_loss: 109.0149 - val_r2_keras: 0.4601\n",
      "Epoch 14/100\n",
      " - 1s - loss: 78.5975 - r2_keras: 0.4949 - val_loss: 108.4636 - val_r2_keras: 0.4629\n",
      "Epoch 15/100\n",
      " - 1s - loss: 77.3329 - r2_keras: 0.5016 - val_loss: 113.2695 - val_r2_keras: 0.4360\n",
      "Epoch 16/100\n",
      " - 1s - loss: 75.4834 - r2_keras: 0.5168 - val_loss: 108.1647 - val_r2_keras: 0.4650\n",
      "Epoch 17/100\n",
      " - 1s - loss: 76.0299 - r2_keras: 0.5079 - val_loss: 106.6507 - val_r2_keras: 0.4734\n",
      "Epoch 18/100\n",
      " - 1s - loss: 74.5330 - r2_keras: 0.5235 - val_loss: 105.9260 - val_r2_keras: 0.4773\n",
      "Epoch 19/100\n",
      " - 1s - loss: 73.6120 - r2_keras: 0.5223 - val_loss: 105.6065 - val_r2_keras: 0.4780\n",
      "Epoch 20/100\n",
      " - 1s - loss: 72.7274 - r2_keras: 0.5284 - val_loss: 104.7934 - val_r2_keras: 0.4833\n",
      "Epoch 21/100\n",
      " - 1s - loss: 71.9013 - r2_keras: 0.5332 - val_loss: 104.6137 - val_r2_keras: 0.4836\n",
      "Epoch 22/100\n",
      " - 1s - loss: 72.5877 - r2_keras: 0.5260 - val_loss: 104.6451 - val_r2_keras: 0.4831\n",
      "Epoch 23/100\n",
      " - 1s - loss: 74.2045 - r2_keras: 0.5251 - val_loss: 104.6258 - val_r2_keras: 0.4838\n",
      "Epoch 24/100\n",
      " - 1s - loss: 73.9750 - r2_keras: 0.5151 - val_loss: 106.6555 - val_r2_keras: 0.4708\n",
      "Epoch 25/100\n",
      " - 1s - loss: 75.6169 - r2_keras: 0.5167 - val_loss: 104.8141 - val_r2_keras: 0.4823\n",
      "Epoch 26/100\n",
      " - 1s - loss: 74.4999 - r2_keras: 0.5126 - val_loss: 106.4434 - val_r2_keras: 0.4717\n",
      "Epoch 27/100\n",
      " - 1s - loss: 74.1758 - r2_keras: 0.5235 - val_loss: 103.4286 - val_r2_keras: 0.4906\n",
      "Epoch 28/100\n",
      " - 1s - loss: 69.9087 - r2_keras: 0.5444 - val_loss: 103.1947 - val_r2_keras: 0.4929\n",
      "Epoch 29/100\n",
      " - 1s - loss: 70.5427 - r2_keras: 0.5429 - val_loss: 103.2926 - val_r2_keras: 0.4918\n",
      "Epoch 30/100\n",
      " - 1s - loss: 70.4302 - r2_keras: 0.5481 - val_loss: 103.9660 - val_r2_keras: 0.4885\n",
      "Epoch 31/100\n",
      " - 1s - loss: 71.6076 - r2_keras: 0.5417 - val_loss: 104.9071 - val_r2_keras: 0.4814\n",
      "Epoch 32/100\n",
      " - 1s - loss: 69.6202 - r2_keras: 0.5482 - val_loss: 102.8216 - val_r2_keras: 0.4932\n",
      "Epoch 33/100\n",
      " - 1s - loss: 71.7940 - r2_keras: 0.5302 - val_loss: 104.2054 - val_r2_keras: 0.4846\n",
      "Epoch 34/100\n",
      " - 1s - loss: 69.3805 - r2_keras: 0.5494 - val_loss: 102.3746 - val_r2_keras: 0.4971\n",
      "Epoch 35/100\n",
      " - 1s - loss: 69.6831 - r2_keras: 0.5510 - val_loss: 101.8168 - val_r2_keras: 0.5003\n",
      "Epoch 36/100\n",
      " - 1s - loss: 68.2880 - r2_keras: 0.5577 - val_loss: 103.6572 - val_r2_keras: 0.4882\n",
      "Epoch 37/100\n",
      " - 1s - loss: 70.0144 - r2_keras: 0.5445 - val_loss: 101.4310 - val_r2_keras: 0.5020\n",
      "Epoch 38/100\n",
      " - 1s - loss: 71.2522 - r2_keras: 0.5365 - val_loss: 103.6039 - val_r2_keras: 0.4884\n",
      "Epoch 39/100\n",
      " - 1s - loss: 70.8850 - r2_keras: 0.5500 - val_loss: 104.4883 - val_r2_keras: 0.4854\n",
      "Epoch 40/100\n",
      " - 1s - loss: 70.0609 - r2_keras: 0.5477 - val_loss: 117.7455 - val_r2_keras: 0.4035\n",
      "Epoch 41/100\n",
      " - 1s - loss: 71.9348 - r2_keras: 0.5357 - val_loss: 114.7841 - val_r2_keras: 0.4259\n",
      "Epoch 42/100\n",
      " - 1s - loss: 71.4915 - r2_keras: 0.5378 - val_loss: 107.2058 - val_r2_keras: 0.4668\n",
      "Epoch 43/100\n",
      " - 1s - loss: 70.2313 - r2_keras: 0.5451 - val_loss: 102.3787 - val_r2_keras: 0.4973\n",
      "Epoch 44/100\n",
      " - 1s - loss: 67.9210 - r2_keras: 0.5533 - val_loss: 101.7614 - val_r2_keras: 0.5008\n",
      "Epoch 45/100\n",
      " - 1s - loss: 69.6290 - r2_keras: 0.5534 - val_loss: 104.2821 - val_r2_keras: 0.4874\n",
      "Epoch 46/100\n",
      " - 1s - loss: 67.3357 - r2_keras: 0.5615 - val_loss: 100.8792 - val_r2_keras: 0.5072\n",
      "Epoch 47/100\n",
      " - 1s - loss: 70.2157 - r2_keras: 0.5412 - val_loss: 112.9980 - val_r2_keras: 0.4329\n",
      "Epoch 48/100\n",
      " - 1s - loss: 68.6779 - r2_keras: 0.5568 - val_loss: 100.7227 - val_r2_keras: 0.5077\n",
      "Epoch 49/100\n",
      " - 1s - loss: 67.4564 - r2_keras: 0.5642 - val_loss: 104.0942 - val_r2_keras: 0.4858\n",
      "Epoch 50/100\n",
      " - 1s - loss: 68.6889 - r2_keras: 0.5569 - val_loss: 112.7304 - val_r2_keras: 0.4372\n",
      "Epoch 51/100\n",
      " - 1s - loss: 72.6860 - r2_keras: 0.5212 - val_loss: 101.5121 - val_r2_keras: 0.5020\n",
      "Epoch 52/100\n",
      " - 1s - loss: 69.7475 - r2_keras: 0.5450 - val_loss: 105.2966 - val_r2_keras: 0.4801\n",
      "Epoch 53/100\n",
      " - 1s - loss: 66.3749 - r2_keras: 0.5722 - val_loss: 102.3769 - val_r2_keras: 0.4964\n",
      "Epoch 54/100\n",
      " - 1s - loss: 67.4323 - r2_keras: 0.5694 - val_loss: 102.5483 - val_r2_keras: 0.4977\n",
      "Epoch 55/100\n",
      " - 1s - loss: 67.8500 - r2_keras: 0.5671 - val_loss: 109.7262 - val_r2_keras: 0.4553\n",
      "Epoch 56/100\n",
      " - 1s - loss: 67.9109 - r2_keras: 0.5565 - val_loss: 103.5504 - val_r2_keras: 0.4909\n",
      "Epoch 57/100\n",
      " - 1s - loss: 70.2937 - r2_keras: 0.5429 - val_loss: 104.3442 - val_r2_keras: 0.4845\n",
      "Epoch 58/100\n",
      " - 1s - loss: 67.5183 - r2_keras: 0.5675 - val_loss: 104.4708 - val_r2_keras: 0.4855\n",
      "Epoch 59/100\n",
      " - 1s - loss: 66.9561 - r2_keras: 0.5668 - val_loss: 101.1444 - val_r2_keras: 0.5054\n",
      "Epoch 60/100\n",
      " - 1s - loss: 66.6576 - r2_keras: 0.5694 - val_loss: 100.7840 - val_r2_keras: 0.5078\n",
      "Epoch 61/100\n",
      " - 1s - loss: 67.1550 - r2_keras: 0.5722 - val_loss: 113.7025 - val_r2_keras: 0.4295\n",
      "Epoch 62/100\n",
      " - 1s - loss: 72.1658 - r2_keras: 0.5413 - val_loss: 100.8130 - val_r2_keras: 0.5075\n",
      "Epoch 63/100\n",
      " - 1s - loss: 67.7132 - r2_keras: 0.5625 - val_loss: 103.2553 - val_r2_keras: 0.4928\n",
      "Epoch 64/100\n",
      " - 1s - loss: 66.8582 - r2_keras: 0.5660 - val_loss: 102.9285 - val_r2_keras: 0.4962\n",
      "Epoch 65/100\n",
      " - 1s - loss: 64.8718 - r2_keras: 0.5749 - val_loss: 106.1178 - val_r2_keras: 0.4738\n",
      "Epoch 66/100\n",
      " - 1s - loss: 64.9529 - r2_keras: 0.5773 - val_loss: 100.7561 - val_r2_keras: 0.5071\n",
      "Epoch 67/100\n",
      " - 1s - loss: 65.1606 - r2_keras: 0.5777 - val_loss: 100.9577 - val_r2_keras: 0.5062\n",
      "Epoch 68/100\n",
      " - 1s - loss: 64.9575 - r2_keras: 0.5731 - val_loss: 103.1796 - val_r2_keras: 0.4944\n",
      "Epoch 69/100\n",
      " - 1s - loss: 67.6352 - r2_keras: 0.5541 - val_loss: 100.8840 - val_r2_keras: 0.5068\n",
      "Epoch 70/100\n",
      " - 1s - loss: 67.4917 - r2_keras: 0.5657 - val_loss: 110.2035 - val_r2_keras: 0.4549\n",
      "Epoch 71/100\n",
      " - 1s - loss: 65.4438 - r2_keras: 0.5704 - val_loss: 106.5744 - val_r2_keras: 0.4730\n",
      "Epoch 72/100\n",
      " - 1s - loss: 67.7776 - r2_keras: 0.5605 - val_loss: 113.3290 - val_r2_keras: 0.4316\n",
      "Epoch 73/100\n",
      " - 1s - loss: 67.4450 - r2_keras: 0.5625 - val_loss: 110.0005 - val_r2_keras: 0.4508\n",
      "Epoch 74/100\n",
      " - 1s - loss: 71.8185 - r2_keras: 0.5348 - val_loss: 103.7685 - val_r2_keras: 0.4883\n",
      "Epoch 75/100\n",
      " - 1s - loss: 64.3879 - r2_keras: 0.5865 - val_loss: 100.8665 - val_r2_keras: 0.5080\n",
      "Epoch 76/100\n",
      " - 1s - loss: 66.2573 - r2_keras: 0.5715 - val_loss: 101.1813 - val_r2_keras: 0.5060\n",
      "Epoch 77/100\n",
      " - 1s - loss: 68.5336 - r2_keras: 0.5582 - val_loss: 136.8161 - val_r2_keras: 0.2907\n",
      "Epoch 78/100\n",
      " - 1s - loss: 73.4624 - r2_keras: 0.5089 - val_loss: 110.5825 - val_r2_keras: 0.4485\n",
      "Epoch 79/100\n",
      " - 1s - loss: 78.1989 - r2_keras: 0.4886 - val_loss: 112.3253 - val_r2_keras: 0.4377\n",
      "Epoch 80/100\n",
      " - 1s - loss: 76.8552 - r2_keras: 0.5053 - val_loss: 117.4055 - val_r2_keras: 0.4072\n",
      "Epoch 81/100\n",
      " - 1s - loss: 71.4377 - r2_keras: 0.5378 - val_loss: 104.0587 - val_r2_keras: 0.4871\n",
      "Epoch 82/100\n",
      " - 1s - loss: 68.5227 - r2_keras: 0.5570 - val_loss: 113.7011 - val_r2_keras: 0.4334\n",
      "Epoch 83/100\n",
      " - 1s - loss: 68.0373 - r2_keras: 0.5637 - val_loss: 101.1332 - val_r2_keras: 0.5050\n"
     ]
    },
    {
     "name": "stdout",
     "output_type": "stream",
     "text": [
      "Epoch 84/100\n",
      " - 1s - loss: 65.0779 - r2_keras: 0.5817 - val_loss: 105.3055 - val_r2_keras: 0.4827\n",
      "Epoch 85/100\n",
      " - 1s - loss: 64.5920 - r2_keras: 0.5816 - val_loss: 103.8899 - val_r2_keras: 0.4903\n",
      "Epoch 86/100\n",
      " - 1s - loss: 64.5587 - r2_keras: 0.5788 - val_loss: 101.5653 - val_r2_keras: 0.5025\n",
      "Epoch 87/100\n",
      " - 1s - loss: 63.3744 - r2_keras: 0.5886 - val_loss: 102.0346 - val_r2_keras: 0.5013\n",
      "Epoch 88/100\n",
      " - 1s - loss: 64.5790 - r2_keras: 0.5761 - val_loss: 101.4959 - val_r2_keras: 0.5042\n",
      "Epoch 89/100\n",
      " - 1s - loss: 66.5882 - r2_keras: 0.5636 - val_loss: 109.7702 - val_r2_keras: 0.4532\n",
      "Epoch 90/100\n",
      " - 1s - loss: 65.8035 - r2_keras: 0.5724 - val_loss: 103.2270 - val_r2_keras: 0.4940\n",
      "Epoch 91/100\n",
      " - 1s - loss: 63.7397 - r2_keras: 0.5904 - val_loss: 101.6337 - val_r2_keras: 0.5015\n",
      "Epoch 92/100\n",
      " - 1s - loss: 62.7322 - r2_keras: 0.5920 - val_loss: 103.7019 - val_r2_keras: 0.4920\n",
      "Epoch 93/100\n",
      " - 1s - loss: 62.9108 - r2_keras: 0.5934 - val_loss: 101.2224 - val_r2_keras: 0.5051\n",
      "Epoch 94/100\n",
      " - 1s - loss: 63.3946 - r2_keras: 0.5866 - val_loss: 101.7126 - val_r2_keras: 0.5028\n",
      "Epoch 95/100\n",
      " - 1s - loss: 64.7197 - r2_keras: 0.5792 - val_loss: 102.2207 - val_r2_keras: 0.4997\n",
      "Epoch 96/100\n",
      " - 1s - loss: 66.2271 - r2_keras: 0.5681 - val_loss: 101.3963 - val_r2_keras: 0.5040\n",
      "Epoch 97/100\n",
      " - 1s - loss: 63.7088 - r2_keras: 0.5900 - val_loss: 104.9132 - val_r2_keras: 0.4841\n",
      "Epoch 98/100\n",
      " - 1s - loss: 63.1273 - r2_keras: 0.5905 - val_loss: 107.0205 - val_r2_keras: 0.4704\n",
      "Epoch 99/100\n",
      " - 1s - loss: 65.0676 - r2_keras: 0.5743 - val_loss: 102.0824 - val_r2_keras: 0.5018\n",
      "Epoch 100/100\n",
      " - 1s - loss: 65.0304 - r2_keras: 0.5791 - val_loss: 101.3380 - val_r2_keras: 0.5053\n"
     ]
    }
   ],
   "source": [
    "model.fit(X_train, y_train,\n",
    "          batch_size=batch_size,\n",
    "          epochs=epochs,\n",
    "          verbose=2,\n",
    "          validation_data=(X_test, y_test))\n",
    "score = model.evaluate(X_test, y_test, verbose=0)\n"
   ]
  },
  {
   "cell_type": "code",
   "execution_count": 28,
   "metadata": {},
   "outputs": [
    {
     "name": "stdout",
     "output_type": "stream",
     "text": [
      "Test loss: [101.33801329787157, 0.5473365187644958]\n"
     ]
    }
   ],
   "source": [
    "print('Test loss:', score)"
   ]
  },
  {
   "cell_type": "code",
   "execution_count": 29,
   "metadata": {},
   "outputs": [
    {
     "data": {
      "text/plain": [
       "<matplotlib.collections.PathCollection at 0x7f2b205e9dd0>"
      ]
     },
     "execution_count": 29,
     "metadata": {},
     "output_type": "execute_result"
    },
    {
     "data": {
      "image/png": "[encoded data removed]",
      "text/plain": [
       "<Figure size 432x288 with 1 Axes>"
      ]
     },
     "metadata": {
      "needs_background": "light"
     },
     "output_type": "display_data"
    }
   ],
   "source": [
    "preds = model.predict(X_test)\n",
    "preds = preds[:,0]\n",
    "plt.scatter(y_test, preds)\n"
   ]
  },
  {
   "cell_type": "code",
   "execution_count": 30,
   "metadata": {},
   "outputs": [
    {
     "data": {
      "text/plain": [
       "<matplotlib.axes._subplots.AxesSubplot at 0x7f2b205bbcd0>"
      ]
     },
     "execution_count": 30,
     "metadata": {},
     "output_type": "execute_result"
    },
    {
     "data": {
      "image/png": "[encoded data removed]",
      "text/plain": [
       "<Figure size 432x288 with 1 Axes>"
      ]
     },
     "metadata": {
      "needs_background": "light"
     },
     "output_type": "display_data"
    }
   ],
   "source": [
    "residuals = y_test - preds\n",
    "sns.distplot(residuals)"
   ]
  },
  {
   "cell_type": "code",
   "execution_count": 31,
   "metadata": {},
   "outputs": [
    {
     "data": {
      "text/plain": [
       "0.45324371373948236"
      ]
     },
     "execution_count": 31,
     "metadata": {},
     "output_type": "execute_result"
    }
   ],
   "source": [
    "from sklearn.metrics import r2_score\n",
    "r2_score(y_test, preds)  "
   ]
  },
  {
   "cell_type": "code",
   "execution_count": null,
   "metadata": {},
   "outputs": [],
   "source": []
  }
 ],
 "metadata": {
  "kernelspec": {
   "display_name": "Python 3",
   "language": "python",
   "name": "python3"
  },
  "language_info": {
   "codemirror_mode": {
    "name": "ipython",
    "version": 3
   },
   "file_extension": ".py",
   "mimetype": "text/x-python",
   "name": "python",
   "nbconvert_exporter": "python",
   "pygments_lexer": "ipython3",
   "version": "3.7.5"
  }
 },
 "nbformat": 4,
 "nbformat_minor": 2
}
